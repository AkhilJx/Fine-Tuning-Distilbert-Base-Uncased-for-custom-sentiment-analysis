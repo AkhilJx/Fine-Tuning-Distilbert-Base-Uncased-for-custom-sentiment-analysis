{
 "cells": [
  {
   "cell_type": "code",
   "execution_count": 1,
   "id": "7212ea10-bc97-4a45-b288-35a9b8a750d3",
   "metadata": {},
   "outputs": [
    {
     "name": "stdout",
     "output_type": "stream",
     "text": [
      "Requirement already satisfied: transformers in ./sent_anal_env/lib/python3.11/site-packages (4.46.3)\n",
      "Requirement already satisfied: simpletransformers in ./sent_anal_env/lib/python3.11/site-packages (0.70.1)\n",
      "Requirement already satisfied: nltk in ./sent_anal_env/lib/python3.11/site-packages (3.9.1)\n",
      "Requirement already satisfied: filelock in ./sent_anal_env/lib/python3.11/site-packages (from transformers) (3.16.1)\n",
      "Requirement already satisfied: huggingface-hub<1.0,>=0.23.2 in ./sent_anal_env/lib/python3.11/site-packages (from transformers) (0.26.3)\n",
      "Requirement already satisfied: numpy>=1.17 in ./sent_anal_env/lib/python3.11/site-packages (from transformers) (2.1.3)\n",
      "Requirement already satisfied: packaging>=20.0 in ./sent_anal_env/lib/python3.11/site-packages (from transformers) (24.2)\n",
      "Requirement already satisfied: pyyaml>=5.1 in ./sent_anal_env/lib/python3.11/site-packages (from transformers) (6.0.2)\n",
      "Requirement already satisfied: regex!=2019.12.17 in ./sent_anal_env/lib/python3.11/site-packages (from transformers) (2024.11.6)\n",
      "Requirement already satisfied: requests in ./sent_anal_env/lib/python3.11/site-packages (from transformers) (2.32.3)\n",
      "Requirement already satisfied: tokenizers<0.21,>=0.20 in ./sent_anal_env/lib/python3.11/site-packages (from transformers) (0.20.3)\n",
      "Requirement already satisfied: safetensors>=0.4.1 in ./sent_anal_env/lib/python3.11/site-packages (from transformers) (0.4.5)\n",
      "Requirement already satisfied: tqdm>=4.27 in ./sent_anal_env/lib/python3.11/site-packages (from transformers) (4.67.1)\n",
      "Requirement already satisfied: datasets in ./sent_anal_env/lib/python3.11/site-packages (from simpletransformers) (3.1.0)\n",
      "Requirement already satisfied: scipy in ./sent_anal_env/lib/python3.11/site-packages (from simpletransformers) (1.14.1)\n",
      "Requirement already satisfied: scikit-learn in ./sent_anal_env/lib/python3.11/site-packages (from simpletransformers) (1.5.2)\n",
      "Requirement already satisfied: seqeval in ./sent_anal_env/lib/python3.11/site-packages (from simpletransformers) (1.2.2)\n",
      "Requirement already satisfied: tensorboard in ./sent_anal_env/lib/python3.11/site-packages (from simpletransformers) (2.18.0)\n",
      "Requirement already satisfied: tensorboardx in ./sent_anal_env/lib/python3.11/site-packages (from simpletransformers) (2.6.2.2)\n",
      "Requirement already satisfied: pandas in ./sent_anal_env/lib/python3.11/site-packages (from simpletransformers) (2.2.3)\n",
      "Requirement already satisfied: wandb>=0.10.32 in ./sent_anal_env/lib/python3.11/site-packages (from simpletransformers) (0.18.7)\n",
      "Requirement already satisfied: streamlit in ./sent_anal_env/lib/python3.11/site-packages (from simpletransformers) (1.40.2)\n",
      "Requirement already satisfied: sentencepiece in ./sent_anal_env/lib/python3.11/site-packages (from simpletransformers) (0.2.0)\n",
      "Requirement already satisfied: click in ./sent_anal_env/lib/python3.11/site-packages (from nltk) (8.1.7)\n",
      "Requirement already satisfied: joblib in ./sent_anal_env/lib/python3.11/site-packages (from nltk) (1.4.2)\n",
      "Requirement already satisfied: fsspec>=2023.5.0 in ./sent_anal_env/lib/python3.11/site-packages (from huggingface-hub<1.0,>=0.23.2->transformers) (2024.9.0)\n",
      "Requirement already satisfied: typing-extensions>=3.7.4.3 in ./sent_anal_env/lib/python3.11/site-packages (from huggingface-hub<1.0,>=0.23.2->transformers) (4.12.2)\n",
      "Requirement already satisfied: docker-pycreds>=0.4.0 in ./sent_anal_env/lib/python3.11/site-packages (from wandb>=0.10.32->simpletransformers) (0.4.0)\n",
      "Requirement already satisfied: gitpython!=3.1.29,>=1.0.0 in ./sent_anal_env/lib/python3.11/site-packages (from wandb>=0.10.32->simpletransformers) (3.1.43)\n",
      "Requirement already satisfied: platformdirs in ./sent_anal_env/lib/python3.11/site-packages (from wandb>=0.10.32->simpletransformers) (4.3.6)\n",
      "Requirement already satisfied: protobuf!=4.21.0,!=5.28.0,<6,>=3.19.0 in ./sent_anal_env/lib/python3.11/site-packages (from wandb>=0.10.32->simpletransformers) (5.29.0)\n",
      "Requirement already satisfied: psutil>=5.0.0 in ./sent_anal_env/lib/python3.11/site-packages (from wandb>=0.10.32->simpletransformers) (6.1.0)\n",
      "Requirement already satisfied: sentry-sdk>=2.0.0 in ./sent_anal_env/lib/python3.11/site-packages (from wandb>=0.10.32->simpletransformers) (2.19.0)\n",
      "Requirement already satisfied: setproctitle in ./sent_anal_env/lib/python3.11/site-packages (from wandb>=0.10.32->simpletransformers) (1.3.4)\n",
      "Requirement already satisfied: setuptools in ./sent_anal_env/lib/python3.11/site-packages (from wandb>=0.10.32->simpletransformers) (65.5.0)\n",
      "Requirement already satisfied: charset-normalizer<4,>=2 in ./sent_anal_env/lib/python3.11/site-packages (from requests->transformers) (3.4.0)\n",
      "Requirement already satisfied: idna<4,>=2.5 in ./sent_anal_env/lib/python3.11/site-packages (from requests->transformers) (3.10)\n",
      "Requirement already satisfied: urllib3<3,>=1.21.1 in ./sent_anal_env/lib/python3.11/site-packages (from requests->transformers) (2.2.3)\n",
      "Requirement already satisfied: certifi>=2017.4.17 in ./sent_anal_env/lib/python3.11/site-packages (from requests->transformers) (2024.8.30)\n",
      "Requirement already satisfied: pyarrow>=15.0.0 in ./sent_anal_env/lib/python3.11/site-packages (from datasets->simpletransformers) (18.1.0)\n",
      "Requirement already satisfied: dill<0.3.9,>=0.3.0 in ./sent_anal_env/lib/python3.11/site-packages (from datasets->simpletransformers) (0.3.8)\n",
      "Requirement already satisfied: xxhash in ./sent_anal_env/lib/python3.11/site-packages (from datasets->simpletransformers) (3.5.0)\n",
      "Requirement already satisfied: multiprocess<0.70.17 in ./sent_anal_env/lib/python3.11/site-packages (from datasets->simpletransformers) (0.70.16)\n",
      "Requirement already satisfied: aiohttp in ./sent_anal_env/lib/python3.11/site-packages (from datasets->simpletransformers) (3.11.9)\n",
      "Requirement already satisfied: python-dateutil>=2.8.2 in ./sent_anal_env/lib/python3.11/site-packages (from pandas->simpletransformers) (2.9.0.post0)\n",
      "Requirement already satisfied: pytz>=2020.1 in ./sent_anal_env/lib/python3.11/site-packages (from pandas->simpletransformers) (2024.2)\n",
      "Requirement already satisfied: tzdata>=2022.7 in ./sent_anal_env/lib/python3.11/site-packages (from pandas->simpletransformers) (2024.2)\n",
      "Requirement already satisfied: threadpoolctl>=3.1.0 in ./sent_anal_env/lib/python3.11/site-packages (from scikit-learn->simpletransformers) (3.5.0)\n",
      "Requirement already satisfied: altair<6,>=4.0 in ./sent_anal_env/lib/python3.11/site-packages (from streamlit->simpletransformers) (5.5.0)\n",
      "Requirement already satisfied: blinker<2,>=1.0.0 in ./sent_anal_env/lib/python3.11/site-packages (from streamlit->simpletransformers) (1.9.0)\n",
      "Requirement already satisfied: cachetools<6,>=4.0 in ./sent_anal_env/lib/python3.11/site-packages (from streamlit->simpletransformers) (5.5.0)\n",
      "Requirement already satisfied: pillow<12,>=7.1.0 in ./sent_anal_env/lib/python3.11/site-packages (from streamlit->simpletransformers) (11.0.0)\n",
      "Requirement already satisfied: rich<14,>=10.14.0 in ./sent_anal_env/lib/python3.11/site-packages (from streamlit->simpletransformers) (13.9.4)\n",
      "Requirement already satisfied: tenacity<10,>=8.1.0 in ./sent_anal_env/lib/python3.11/site-packages (from streamlit->simpletransformers) (9.0.0)\n",
      "Requirement already satisfied: toml<2,>=0.10.1 in ./sent_anal_env/lib/python3.11/site-packages (from streamlit->simpletransformers) (0.10.2)\n",
      "Requirement already satisfied: watchdog<7,>=2.1.5 in ./sent_anal_env/lib/python3.11/site-packages (from streamlit->simpletransformers) (6.0.0)\n",
      "Requirement already satisfied: pydeck<1,>=0.8.0b4 in ./sent_anal_env/lib/python3.11/site-packages (from streamlit->simpletransformers) (0.9.1)\n",
      "Requirement already satisfied: tornado<7,>=6.0.3 in ./sent_anal_env/lib/python3.11/site-packages (from streamlit->simpletransformers) (6.4.2)\n",
      "Requirement already satisfied: absl-py>=0.4 in ./sent_anal_env/lib/python3.11/site-packages (from tensorboard->simpletransformers) (2.1.0)\n",
      "Requirement already satisfied: grpcio>=1.48.2 in ./sent_anal_env/lib/python3.11/site-packages (from tensorboard->simpletransformers) (1.68.0)\n",
      "Requirement already satisfied: markdown>=2.6.8 in ./sent_anal_env/lib/python3.11/site-packages (from tensorboard->simpletransformers) (3.7)\n",
      "Requirement already satisfied: six>1.9 in ./sent_anal_env/lib/python3.11/site-packages (from tensorboard->simpletransformers) (1.16.0)\n",
      "Requirement already satisfied: tensorboard-data-server<0.8.0,>=0.7.0 in ./sent_anal_env/lib/python3.11/site-packages (from tensorboard->simpletransformers) (0.7.2)\n",
      "Requirement already satisfied: werkzeug>=1.0.1 in ./sent_anal_env/lib/python3.11/site-packages (from tensorboard->simpletransformers) (3.1.3)\n",
      "Requirement already satisfied: jinja2 in ./sent_anal_env/lib/python3.11/site-packages (from altair<6,>=4.0->streamlit->simpletransformers) (3.1.4)\n",
      "Requirement already satisfied: jsonschema>=3.0 in ./sent_anal_env/lib/python3.11/site-packages (from altair<6,>=4.0->streamlit->simpletransformers) (4.23.0)\n",
      "Requirement already satisfied: narwhals>=1.14.2 in ./sent_anal_env/lib/python3.11/site-packages (from altair<6,>=4.0->streamlit->simpletransformers) (1.14.3)\n",
      "Requirement already satisfied: aiohappyeyeballs>=2.3.0 in ./sent_anal_env/lib/python3.11/site-packages (from aiohttp->datasets->simpletransformers) (2.4.4)\n",
      "Requirement already satisfied: aiosignal>=1.1.2 in ./sent_anal_env/lib/python3.11/site-packages (from aiohttp->datasets->simpletransformers) (1.3.1)\n",
      "Requirement already satisfied: attrs>=17.3.0 in ./sent_anal_env/lib/python3.11/site-packages (from aiohttp->datasets->simpletransformers) (24.2.0)\n",
      "Requirement already satisfied: frozenlist>=1.1.1 in ./sent_anal_env/lib/python3.11/site-packages (from aiohttp->datasets->simpletransformers) (1.5.0)\n",
      "Requirement already satisfied: multidict<7.0,>=4.5 in ./sent_anal_env/lib/python3.11/site-packages (from aiohttp->datasets->simpletransformers) (6.1.0)\n",
      "Requirement already satisfied: propcache>=0.2.0 in ./sent_anal_env/lib/python3.11/site-packages (from aiohttp->datasets->simpletransformers) (0.2.1)\n",
      "Requirement already satisfied: yarl<2.0,>=1.17.0 in ./sent_anal_env/lib/python3.11/site-packages (from aiohttp->datasets->simpletransformers) (1.18.3)\n",
      "Requirement already satisfied: gitdb<5,>=4.0.1 in ./sent_anal_env/lib/python3.11/site-packages (from gitpython!=3.1.29,>=1.0.0->wandb>=0.10.32->simpletransformers) (4.0.11)\n",
      "Requirement already satisfied: markdown-it-py>=2.2.0 in ./sent_anal_env/lib/python3.11/site-packages (from rich<14,>=10.14.0->streamlit->simpletransformers) (3.0.0)\n",
      "Requirement already satisfied: pygments<3.0.0,>=2.13.0 in ./sent_anal_env/lib/python3.11/site-packages (from rich<14,>=10.14.0->streamlit->simpletransformers) (2.18.0)\n",
      "Requirement already satisfied: MarkupSafe>=2.1.1 in ./sent_anal_env/lib/python3.11/site-packages (from werkzeug>=1.0.1->tensorboard->simpletransformers) (3.0.2)\n",
      "Requirement already satisfied: smmap<6,>=3.0.1 in ./sent_anal_env/lib/python3.11/site-packages (from gitdb<5,>=4.0.1->gitpython!=3.1.29,>=1.0.0->wandb>=0.10.32->simpletransformers) (5.0.1)\n",
      "Requirement already satisfied: jsonschema-specifications>=2023.03.6 in ./sent_anal_env/lib/python3.11/site-packages (from jsonschema>=3.0->altair<6,>=4.0->streamlit->simpletransformers) (2024.10.1)\n",
      "Requirement already satisfied: referencing>=0.28.4 in ./sent_anal_env/lib/python3.11/site-packages (from jsonschema>=3.0->altair<6,>=4.0->streamlit->simpletransformers) (0.35.1)\n",
      "Requirement already satisfied: rpds-py>=0.7.1 in ./sent_anal_env/lib/python3.11/site-packages (from jsonschema>=3.0->altair<6,>=4.0->streamlit->simpletransformers) (0.21.0)\n",
      "Requirement already satisfied: mdurl~=0.1 in ./sent_anal_env/lib/python3.11/site-packages (from markdown-it-py>=2.2.0->rich<14,>=10.14.0->streamlit->simpletransformers) (0.1.2)\n",
      "\n",
      "\u001b[1m[\u001b[0m\u001b[34;49mnotice\u001b[0m\u001b[1;39;49m]\u001b[0m\u001b[39;49m A new release of pip is available: \u001b[0m\u001b[31;49m24.0\u001b[0m\u001b[39;49m -> \u001b[0m\u001b[32;49m24.3.1\u001b[0m\n",
      "\u001b[1m[\u001b[0m\u001b[34;49mnotice\u001b[0m\u001b[1;39;49m]\u001b[0m\u001b[39;49m To update, run: \u001b[0m\u001b[32;49mpip install --upgrade pip\u001b[0m\n"
     ]
    }
   ],
   "source": [
    "!pip install transformers simpletransformers nltk"
   ]
  },
  {
   "cell_type": "code",
   "execution_count": 2,
   "id": "a5547e26-fb1b-402a-b60a-75fd6915c1b6",
   "metadata": {},
   "outputs": [
    {
     "name": "stdout",
     "output_type": "stream",
     "text": [
      "Requirement already satisfied: datasets in ./sent_anal_env/lib/python3.11/site-packages (3.1.0)\n",
      "Requirement already satisfied: filelock in ./sent_anal_env/lib/python3.11/site-packages (from datasets) (3.16.1)\n",
      "Requirement already satisfied: numpy>=1.17 in ./sent_anal_env/lib/python3.11/site-packages (from datasets) (2.1.3)\n",
      "Requirement already satisfied: pyarrow>=15.0.0 in ./sent_anal_env/lib/python3.11/site-packages (from datasets) (18.1.0)\n",
      "Requirement already satisfied: dill<0.3.9,>=0.3.0 in ./sent_anal_env/lib/python3.11/site-packages (from datasets) (0.3.8)\n",
      "Requirement already satisfied: pandas in ./sent_anal_env/lib/python3.11/site-packages (from datasets) (2.2.3)\n",
      "Requirement already satisfied: requests>=2.32.2 in ./sent_anal_env/lib/python3.11/site-packages (from datasets) (2.32.3)\n",
      "Requirement already satisfied: tqdm>=4.66.3 in ./sent_anal_env/lib/python3.11/site-packages (from datasets) (4.67.1)\n",
      "Requirement already satisfied: xxhash in ./sent_anal_env/lib/python3.11/site-packages (from datasets) (3.5.0)\n",
      "Requirement already satisfied: multiprocess<0.70.17 in ./sent_anal_env/lib/python3.11/site-packages (from datasets) (0.70.16)\n",
      "Requirement already satisfied: fsspec<=2024.9.0,>=2023.1.0 in ./sent_anal_env/lib/python3.11/site-packages (from fsspec[http]<=2024.9.0,>=2023.1.0->datasets) (2024.9.0)\n",
      "Requirement already satisfied: aiohttp in ./sent_anal_env/lib/python3.11/site-packages (from datasets) (3.11.9)\n",
      "Requirement already satisfied: huggingface-hub>=0.23.0 in ./sent_anal_env/lib/python3.11/site-packages (from datasets) (0.26.3)\n",
      "Requirement already satisfied: packaging in ./sent_anal_env/lib/python3.11/site-packages (from datasets) (24.2)\n",
      "Requirement already satisfied: pyyaml>=5.1 in ./sent_anal_env/lib/python3.11/site-packages (from datasets) (6.0.2)\n",
      "Requirement already satisfied: aiohappyeyeballs>=2.3.0 in ./sent_anal_env/lib/python3.11/site-packages (from aiohttp->datasets) (2.4.4)\n",
      "Requirement already satisfied: aiosignal>=1.1.2 in ./sent_anal_env/lib/python3.11/site-packages (from aiohttp->datasets) (1.3.1)\n",
      "Requirement already satisfied: attrs>=17.3.0 in ./sent_anal_env/lib/python3.11/site-packages (from aiohttp->datasets) (24.2.0)\n",
      "Requirement already satisfied: frozenlist>=1.1.1 in ./sent_anal_env/lib/python3.11/site-packages (from aiohttp->datasets) (1.5.0)\n",
      "Requirement already satisfied: multidict<7.0,>=4.5 in ./sent_anal_env/lib/python3.11/site-packages (from aiohttp->datasets) (6.1.0)\n",
      "Requirement already satisfied: propcache>=0.2.0 in ./sent_anal_env/lib/python3.11/site-packages (from aiohttp->datasets) (0.2.1)\n",
      "Requirement already satisfied: yarl<2.0,>=1.17.0 in ./sent_anal_env/lib/python3.11/site-packages (from aiohttp->datasets) (1.18.3)\n",
      "Requirement already satisfied: typing-extensions>=3.7.4.3 in ./sent_anal_env/lib/python3.11/site-packages (from huggingface-hub>=0.23.0->datasets) (4.12.2)\n",
      "Requirement already satisfied: charset-normalizer<4,>=2 in ./sent_anal_env/lib/python3.11/site-packages (from requests>=2.32.2->datasets) (3.4.0)\n",
      "Requirement already satisfied: idna<4,>=2.5 in ./sent_anal_env/lib/python3.11/site-packages (from requests>=2.32.2->datasets) (3.10)\n",
      "Requirement already satisfied: urllib3<3,>=1.21.1 in ./sent_anal_env/lib/python3.11/site-packages (from requests>=2.32.2->datasets) (2.2.3)\n",
      "Requirement already satisfied: certifi>=2017.4.17 in ./sent_anal_env/lib/python3.11/site-packages (from requests>=2.32.2->datasets) (2024.8.30)\n",
      "Requirement already satisfied: python-dateutil>=2.8.2 in ./sent_anal_env/lib/python3.11/site-packages (from pandas->datasets) (2.9.0.post0)\n",
      "Requirement already satisfied: pytz>=2020.1 in ./sent_anal_env/lib/python3.11/site-packages (from pandas->datasets) (2024.2)\n",
      "Requirement already satisfied: tzdata>=2022.7 in ./sent_anal_env/lib/python3.11/site-packages (from pandas->datasets) (2024.2)\n",
      "Requirement already satisfied: six>=1.5 in ./sent_anal_env/lib/python3.11/site-packages (from python-dateutil>=2.8.2->pandas->datasets) (1.16.0)\n",
      "\n",
      "\u001b[1m[\u001b[0m\u001b[34;49mnotice\u001b[0m\u001b[1;39;49m]\u001b[0m\u001b[39;49m A new release of pip is available: \u001b[0m\u001b[31;49m24.0\u001b[0m\u001b[39;49m -> \u001b[0m\u001b[32;49m24.3.1\u001b[0m\n",
      "\u001b[1m[\u001b[0m\u001b[34;49mnotice\u001b[0m\u001b[1;39;49m]\u001b[0m\u001b[39;49m To update, run: \u001b[0m\u001b[32;49mpip install --upgrade pip\u001b[0m\n"
     ]
    }
   ],
   "source": [
    "!pip install datasets\n"
   ]
  },
  {
   "cell_type": "code",
   "execution_count": 3,
   "id": "3069ad51-d5d1-4bff-bd94-672555ec9329",
   "metadata": {},
   "outputs": [
    {
     "name": "stdout",
     "output_type": "stream",
     "text": [
      "Collecting datasets\n",
      "  Using cached datasets-3.1.0-py3-none-any.whl.metadata (20 kB)\n",
      "Collecting filelock (from datasets)\n",
      "  Using cached filelock-3.16.1-py3-none-any.whl.metadata (2.9 kB)\n",
      "Collecting numpy>=1.17 (from datasets)\n",
      "  Using cached numpy-2.1.3-cp311-cp311-manylinux_2_17_x86_64.manylinux2014_x86_64.whl.metadata (62 kB)\n",
      "Collecting pyarrow>=15.0.0 (from datasets)\n",
      "  Using cached pyarrow-18.1.0-cp311-cp311-manylinux_2_28_x86_64.whl.metadata (3.3 kB)\n",
      "Collecting dill<0.3.9,>=0.3.0 (from datasets)\n",
      "  Using cached dill-0.3.8-py3-none-any.whl.metadata (10 kB)\n",
      "Collecting pandas (from datasets)\n",
      "  Using cached pandas-2.2.3-cp311-cp311-manylinux_2_17_x86_64.manylinux2014_x86_64.whl.metadata (89 kB)\n",
      "Collecting requests>=2.32.2 (from datasets)\n",
      "  Using cached requests-2.32.3-py3-none-any.whl.metadata (4.6 kB)\n",
      "Collecting tqdm>=4.66.3 (from datasets)\n",
      "  Using cached tqdm-4.67.1-py3-none-any.whl.metadata (57 kB)\n",
      "Collecting xxhash (from datasets)\n",
      "  Using cached xxhash-3.5.0-cp311-cp311-manylinux_2_17_x86_64.manylinux2014_x86_64.whl.metadata (12 kB)\n",
      "Collecting multiprocess<0.70.17 (from datasets)\n",
      "  Using cached multiprocess-0.70.16-py311-none-any.whl.metadata (7.2 kB)\n",
      "Collecting fsspec<=2024.9.0,>=2023.1.0 (from fsspec[http]<=2024.9.0,>=2023.1.0->datasets)\n",
      "  Using cached fsspec-2024.9.0-py3-none-any.whl.metadata (11 kB)\n",
      "Collecting aiohttp (from datasets)\n",
      "  Using cached aiohttp-3.11.9-cp311-cp311-manylinux_2_17_x86_64.manylinux2014_x86_64.whl.metadata (7.7 kB)\n",
      "Collecting huggingface-hub>=0.23.0 (from datasets)\n",
      "  Using cached huggingface_hub-0.26.3-py3-none-any.whl.metadata (13 kB)\n",
      "Collecting packaging (from datasets)\n",
      "  Using cached packaging-24.2-py3-none-any.whl.metadata (3.2 kB)\n",
      "Collecting pyyaml>=5.1 (from datasets)\n",
      "  Using cached PyYAML-6.0.2-cp311-cp311-manylinux_2_17_x86_64.manylinux2014_x86_64.whl.metadata (2.1 kB)\n",
      "Collecting aiohappyeyeballs>=2.3.0 (from aiohttp->datasets)\n",
      "  Using cached aiohappyeyeballs-2.4.4-py3-none-any.whl.metadata (6.1 kB)\n",
      "Collecting aiosignal>=1.1.2 (from aiohttp->datasets)\n",
      "  Using cached aiosignal-1.3.1-py3-none-any.whl.metadata (4.0 kB)\n",
      "Collecting attrs>=17.3.0 (from aiohttp->datasets)\n",
      "  Using cached attrs-24.2.0-py3-none-any.whl.metadata (11 kB)\n",
      "Collecting frozenlist>=1.1.1 (from aiohttp->datasets)\n",
      "  Using cached frozenlist-1.5.0-cp311-cp311-manylinux_2_5_x86_64.manylinux1_x86_64.manylinux_2_17_x86_64.manylinux2014_x86_64.whl.metadata (13 kB)\n",
      "Collecting multidict<7.0,>=4.5 (from aiohttp->datasets)\n",
      "  Using cached multidict-6.1.0-cp311-cp311-manylinux_2_17_x86_64.manylinux2014_x86_64.whl.metadata (5.0 kB)\n",
      "Collecting propcache>=0.2.0 (from aiohttp->datasets)\n",
      "  Using cached propcache-0.2.1-cp311-cp311-manylinux_2_17_x86_64.manylinux2014_x86_64.whl.metadata (9.2 kB)\n",
      "Collecting yarl<2.0,>=1.17.0 (from aiohttp->datasets)\n",
      "  Using cached yarl-1.18.3-cp311-cp311-manylinux_2_17_x86_64.manylinux2014_x86_64.whl.metadata (69 kB)\n",
      "Collecting typing-extensions>=3.7.4.3 (from huggingface-hub>=0.23.0->datasets)\n",
      "  Using cached typing_extensions-4.12.2-py3-none-any.whl.metadata (3.0 kB)\n",
      "Collecting charset-normalizer<4,>=2 (from requests>=2.32.2->datasets)\n",
      "  Using cached charset_normalizer-3.4.0-cp311-cp311-manylinux_2_17_x86_64.manylinux2014_x86_64.whl.metadata (34 kB)\n",
      "Collecting idna<4,>=2.5 (from requests>=2.32.2->datasets)\n",
      "  Using cached idna-3.10-py3-none-any.whl.metadata (10 kB)\n",
      "Collecting urllib3<3,>=1.21.1 (from requests>=2.32.2->datasets)\n",
      "  Using cached urllib3-2.2.3-py3-none-any.whl.metadata (6.5 kB)\n",
      "Collecting certifi>=2017.4.17 (from requests>=2.32.2->datasets)\n",
      "  Using cached certifi-2024.8.30-py3-none-any.whl.metadata (2.2 kB)\n",
      "Collecting python-dateutil>=2.8.2 (from pandas->datasets)\n",
      "  Using cached python_dateutil-2.9.0.post0-py2.py3-none-any.whl.metadata (8.4 kB)\n",
      "Collecting pytz>=2020.1 (from pandas->datasets)\n",
      "  Using cached pytz-2024.2-py2.py3-none-any.whl.metadata (22 kB)\n",
      "Collecting tzdata>=2022.7 (from pandas->datasets)\n",
      "  Using cached tzdata-2024.2-py2.py3-none-any.whl.metadata (1.4 kB)\n",
      "Collecting six>=1.5 (from python-dateutil>=2.8.2->pandas->datasets)\n",
      "  Using cached six-1.16.0-py2.py3-none-any.whl.metadata (1.8 kB)\n",
      "Using cached datasets-3.1.0-py3-none-any.whl (480 kB)\n",
      "Using cached dill-0.3.8-py3-none-any.whl (116 kB)\n",
      "Using cached fsspec-2024.9.0-py3-none-any.whl (179 kB)\n",
      "Using cached aiohttp-3.11.9-cp311-cp311-manylinux_2_17_x86_64.manylinux2014_x86_64.whl (1.7 MB)\n",
      "Using cached huggingface_hub-0.26.3-py3-none-any.whl (447 kB)\n",
      "Using cached multiprocess-0.70.16-py311-none-any.whl (143 kB)\n",
      "Using cached numpy-2.1.3-cp311-cp311-manylinux_2_17_x86_64.manylinux2014_x86_64.whl (16.3 MB)\n",
      "Using cached packaging-24.2-py3-none-any.whl (65 kB)\n",
      "Using cached pyarrow-18.1.0-cp311-cp311-manylinux_2_28_x86_64.whl (40.1 MB)\n",
      "Using cached PyYAML-6.0.2-cp311-cp311-manylinux_2_17_x86_64.manylinux2014_x86_64.whl (762 kB)\n",
      "Using cached requests-2.32.3-py3-none-any.whl (64 kB)\n",
      "Using cached tqdm-4.67.1-py3-none-any.whl (78 kB)\n",
      "Using cached filelock-3.16.1-py3-none-any.whl (16 kB)\n",
      "Using cached pandas-2.2.3-cp311-cp311-manylinux_2_17_x86_64.manylinux2014_x86_64.whl (13.1 MB)\n",
      "Using cached xxhash-3.5.0-cp311-cp311-manylinux_2_17_x86_64.manylinux2014_x86_64.whl (194 kB)\n",
      "Using cached aiohappyeyeballs-2.4.4-py3-none-any.whl (14 kB)\n",
      "Using cached aiosignal-1.3.1-py3-none-any.whl (7.6 kB)\n",
      "Using cached attrs-24.2.0-py3-none-any.whl (63 kB)\n",
      "Using cached certifi-2024.8.30-py3-none-any.whl (167 kB)\n",
      "Using cached charset_normalizer-3.4.0-cp311-cp311-manylinux_2_17_x86_64.manylinux2014_x86_64.whl (142 kB)\n",
      "Using cached frozenlist-1.5.0-cp311-cp311-manylinux_2_5_x86_64.manylinux1_x86_64.manylinux_2_17_x86_64.manylinux2014_x86_64.whl (274 kB)\n",
      "Using cached idna-3.10-py3-none-any.whl (70 kB)\n",
      "Using cached multidict-6.1.0-cp311-cp311-manylinux_2_17_x86_64.manylinux2014_x86_64.whl (129 kB)\n",
      "Using cached propcache-0.2.1-cp311-cp311-manylinux_2_17_x86_64.manylinux2014_x86_64.whl (231 kB)\n",
      "Using cached python_dateutil-2.9.0.post0-py2.py3-none-any.whl (229 kB)\n",
      "Using cached pytz-2024.2-py2.py3-none-any.whl (508 kB)\n",
      "Using cached typing_extensions-4.12.2-py3-none-any.whl (37 kB)\n",
      "Using cached tzdata-2024.2-py2.py3-none-any.whl (346 kB)\n",
      "Using cached urllib3-2.2.3-py3-none-any.whl (126 kB)\n",
      "Using cached yarl-1.18.3-cp311-cp311-manylinux_2_17_x86_64.manylinux2014_x86_64.whl (344 kB)\n",
      "Using cached six-1.16.0-py2.py3-none-any.whl (11 kB)\n",
      "Installing collected packages: pytz, xxhash, urllib3, tzdata, typing-extensions, tqdm, six, pyyaml, pyarrow, propcache, packaging, numpy, multidict, idna, fsspec, frozenlist, filelock, dill, charset-normalizer, certifi, attrs, aiohappyeyeballs, yarl, requests, python-dateutil, multiprocess, aiosignal, pandas, huggingface-hub, aiohttp, datasets\n",
      "  Attempting uninstall: pytz\n",
      "    Found existing installation: pytz 2024.2\n",
      "    Uninstalling pytz-2024.2:\n",
      "      Successfully uninstalled pytz-2024.2\n",
      "  Attempting uninstall: xxhash\n",
      "    Found existing installation: xxhash 3.5.0\n",
      "    Uninstalling xxhash-3.5.0:\n",
      "      Successfully uninstalled xxhash-3.5.0\n",
      "  Attempting uninstall: urllib3\n",
      "    Found existing installation: urllib3 2.2.3\n",
      "    Uninstalling urllib3-2.2.3:\n",
      "      Successfully uninstalled urllib3-2.2.3\n",
      "  Attempting uninstall: tzdata\n",
      "    Found existing installation: tzdata 2024.2\n",
      "    Uninstalling tzdata-2024.2:\n",
      "      Successfully uninstalled tzdata-2024.2\n",
      "  Attempting uninstall: typing-extensions\n",
      "    Found existing installation: typing_extensions 4.12.2\n",
      "    Uninstalling typing_extensions-4.12.2:\n",
      "      Successfully uninstalled typing_extensions-4.12.2\n",
      "  Attempting uninstall: tqdm\n",
      "    Found existing installation: tqdm 4.67.1\n",
      "    Uninstalling tqdm-4.67.1:\n",
      "      Successfully uninstalled tqdm-4.67.1\n",
      "  Attempting uninstall: six\n",
      "    Found existing installation: six 1.16.0\n",
      "    Uninstalling six-1.16.0:\n",
      "      Successfully uninstalled six-1.16.0\n",
      "  Attempting uninstall: pyyaml\n",
      "    Found existing installation: PyYAML 6.0.2\n",
      "    Uninstalling PyYAML-6.0.2:\n",
      "      Successfully uninstalled PyYAML-6.0.2\n",
      "  Attempting uninstall: pyarrow\n",
      "    Found existing installation: pyarrow 18.1.0\n",
      "    Uninstalling pyarrow-18.1.0:\n",
      "      Successfully uninstalled pyarrow-18.1.0\n",
      "  Attempting uninstall: propcache\n",
      "    Found existing installation: propcache 0.2.1\n",
      "    Uninstalling propcache-0.2.1:\n",
      "      Successfully uninstalled propcache-0.2.1\n",
      "  Attempting uninstall: packaging\n",
      "    Found existing installation: packaging 24.2\n",
      "    Uninstalling packaging-24.2:\n",
      "      Successfully uninstalled packaging-24.2\n",
      "  Attempting uninstall: numpy\n",
      "    Found existing installation: numpy 2.1.3\n",
      "    Uninstalling numpy-2.1.3:\n",
      "      Successfully uninstalled numpy-2.1.3\n",
      "  Attempting uninstall: multidict\n",
      "    Found existing installation: multidict 6.1.0\n",
      "    Uninstalling multidict-6.1.0:\n",
      "      Successfully uninstalled multidict-6.1.0\n",
      "  Attempting uninstall: idna\n",
      "    Found existing installation: idna 3.10\n",
      "    Uninstalling idna-3.10:\n",
      "      Successfully uninstalled idna-3.10\n",
      "  Attempting uninstall: fsspec\n",
      "    Found existing installation: fsspec 2024.9.0\n",
      "    Uninstalling fsspec-2024.9.0:\n",
      "      Successfully uninstalled fsspec-2024.9.0\n",
      "  Attempting uninstall: frozenlist\n",
      "    Found existing installation: frozenlist 1.5.0\n",
      "    Uninstalling frozenlist-1.5.0:\n",
      "      Successfully uninstalled frozenlist-1.5.0\n",
      "  Attempting uninstall: filelock\n",
      "    Found existing installation: filelock 3.16.1\n",
      "    Uninstalling filelock-3.16.1:\n",
      "      Successfully uninstalled filelock-3.16.1\n",
      "  Attempting uninstall: dill\n",
      "    Found existing installation: dill 0.3.8\n",
      "    Uninstalling dill-0.3.8:\n",
      "      Successfully uninstalled dill-0.3.8\n",
      "  Attempting uninstall: charset-normalizer\n",
      "    Found existing installation: charset-normalizer 3.4.0\n",
      "    Uninstalling charset-normalizer-3.4.0:\n",
      "      Successfully uninstalled charset-normalizer-3.4.0\n",
      "  Attempting uninstall: certifi\n",
      "    Found existing installation: certifi 2024.8.30\n",
      "    Uninstalling certifi-2024.8.30:\n",
      "      Successfully uninstalled certifi-2024.8.30\n",
      "  Attempting uninstall: attrs\n",
      "    Found existing installation: attrs 24.2.0\n",
      "    Uninstalling attrs-24.2.0:\n",
      "      Successfully uninstalled attrs-24.2.0\n",
      "  Attempting uninstall: aiohappyeyeballs\n",
      "    Found existing installation: aiohappyeyeballs 2.4.4\n",
      "    Uninstalling aiohappyeyeballs-2.4.4:\n",
      "      Successfully uninstalled aiohappyeyeballs-2.4.4\n",
      "  Attempting uninstall: yarl\n",
      "    Found existing installation: yarl 1.18.3\n",
      "    Uninstalling yarl-1.18.3:\n",
      "      Successfully uninstalled yarl-1.18.3\n",
      "  Attempting uninstall: requests\n",
      "    Found existing installation: requests 2.32.3\n",
      "    Uninstalling requests-2.32.3:\n",
      "      Successfully uninstalled requests-2.32.3\n",
      "  Attempting uninstall: python-dateutil\n",
      "    Found existing installation: python-dateutil 2.9.0.post0\n",
      "    Uninstalling python-dateutil-2.9.0.post0:\n",
      "      Successfully uninstalled python-dateutil-2.9.0.post0\n",
      "  Attempting uninstall: multiprocess\n",
      "    Found existing installation: multiprocess 0.70.16\n",
      "    Uninstalling multiprocess-0.70.16:\n",
      "      Successfully uninstalled multiprocess-0.70.16\n",
      "  Attempting uninstall: aiosignal\n",
      "    Found existing installation: aiosignal 1.3.1\n",
      "    Uninstalling aiosignal-1.3.1:\n",
      "      Successfully uninstalled aiosignal-1.3.1\n",
      "  Attempting uninstall: pandas\n",
      "    Found existing installation: pandas 2.2.3\n",
      "    Uninstalling pandas-2.2.3:\n",
      "      Successfully uninstalled pandas-2.2.3\n",
      "  Attempting uninstall: huggingface-hub\n",
      "    Found existing installation: huggingface-hub 0.26.3\n",
      "    Uninstalling huggingface-hub-0.26.3:\n",
      "      Successfully uninstalled huggingface-hub-0.26.3\n",
      "  Attempting uninstall: aiohttp\n",
      "    Found existing installation: aiohttp 3.11.9\n",
      "    Uninstalling aiohttp-3.11.9:\n",
      "      Successfully uninstalled aiohttp-3.11.9\n",
      "  Attempting uninstall: datasets\n",
      "    Found existing installation: datasets 3.1.0\n",
      "    Uninstalling datasets-3.1.0:\n",
      "      Successfully uninstalled datasets-3.1.0\n",
      "Successfully installed aiohappyeyeballs-2.4.4 aiohttp-3.11.9 aiosignal-1.3.1 attrs-24.2.0 certifi-2024.8.30 charset-normalizer-3.4.0 datasets-3.1.0 dill-0.3.8 filelock-3.16.1 frozenlist-1.5.0 fsspec-2024.9.0 huggingface-hub-0.26.3 idna-3.10 multidict-6.1.0 multiprocess-0.70.16 numpy-2.1.3 packaging-24.2 pandas-2.2.3 propcache-0.2.1 pyarrow-18.1.0 python-dateutil-2.9.0.post0 pytz-2024.2 pyyaml-6.0.2 requests-2.32.3 six-1.16.0 tqdm-4.67.1 typing-extensions-4.12.2 tzdata-2024.2 urllib3-2.2.3 xxhash-3.5.0 yarl-1.18.3\n",
      "\n",
      "\u001b[1m[\u001b[0m\u001b[34;49mnotice\u001b[0m\u001b[1;39;49m]\u001b[0m\u001b[39;49m A new release of pip is available: \u001b[0m\u001b[31;49m24.0\u001b[0m\u001b[39;49m -> \u001b[0m\u001b[32;49m24.3.1\u001b[0m\n",
      "\u001b[1m[\u001b[0m\u001b[34;49mnotice\u001b[0m\u001b[1;39;49m]\u001b[0m\u001b[39;49m To update, run: \u001b[0m\u001b[32;49mpip install --upgrade pip\u001b[0m\n"
     ]
    }
   ],
   "source": [
    "!pip install --upgrade --force-reinstall datasets"
   ]
  },
  {
   "cell_type": "code",
   "execution_count": 4,
   "id": "49dd4bf0-35df-4973-8b14-7976ff9598b8",
   "metadata": {},
   "outputs": [
    {
     "name": "stdout",
     "output_type": "stream",
     "text": [
      "\u001b[33mDEPRECATION: Loading egg at /home/akhil/anaconda3/lib/python3.11/site-packages/huggingface_hub-0.26.2-py3.8.egg is deprecated. pip 24.3 will enforce this behaviour change. A possible replacement is to use pip for package installation. Discussion can be found at https://github.com/pypa/pip/issues/12330\u001b[0m\u001b[33m\n",
      "\u001b[0mRequirement already satisfied: datasets in /home/akhil/anaconda3/lib/python3.11/site-packages (3.1.0)\n",
      "Requirement already satisfied: filelock in /home/akhil/anaconda3/lib/python3.11/site-packages (from datasets) (3.13.1)\n",
      "Requirement already satisfied: numpy>=1.17 in /home/akhil/anaconda3/lib/python3.11/site-packages (from datasets) (1.24.4)\n",
      "Requirement already satisfied: pyarrow>=15.0.0 in /home/akhil/anaconda3/lib/python3.11/site-packages (from datasets) (17.0.0)\n",
      "Requirement already satisfied: dill<0.3.9,>=0.3.0 in /home/akhil/anaconda3/lib/python3.11/site-packages (from datasets) (0.3.8)\n",
      "Requirement already satisfied: pandas in /home/akhil/anaconda3/lib/python3.11/site-packages (from datasets) (2.2.2)\n",
      "Requirement already satisfied: requests>=2.32.2 in /home/akhil/anaconda3/lib/python3.11/site-packages (from datasets) (2.32.3)\n",
      "Requirement already satisfied: tqdm>=4.66.3 in /home/akhil/anaconda3/lib/python3.11/site-packages (from datasets) (4.66.5)\n",
      "Requirement already satisfied: xxhash in /home/akhil/anaconda3/lib/python3.11/site-packages (from datasets) (3.5.0)\n",
      "Requirement already satisfied: multiprocess<0.70.17 in /home/akhil/anaconda3/lib/python3.11/site-packages (from datasets) (0.70.16)\n",
      "Requirement already satisfied: fsspec<=2024.9.0,>=2023.1.0 in /home/akhil/anaconda3/lib/python3.11/site-packages (from fsspec[http]<=2024.9.0,>=2023.1.0->datasets) (2024.6.1)\n",
      "Requirement already satisfied: aiohttp in /home/akhil/anaconda3/lib/python3.11/site-packages (from datasets) (3.10.5)\n",
      "Requirement already satisfied: huggingface-hub>=0.23.0 in /home/akhil/anaconda3/lib/python3.11/site-packages/huggingface_hub-0.26.2-py3.8.egg (from datasets) (0.26.2)\n",
      "Requirement already satisfied: packaging in /home/akhil/anaconda3/lib/python3.11/site-packages (from datasets) (24.1)\n",
      "Requirement already satisfied: pyyaml>=5.1 in /home/akhil/anaconda3/lib/python3.11/site-packages (from datasets) (6.0.2)\n",
      "Requirement already satisfied: aiohappyeyeballs>=2.3.0 in /home/akhil/anaconda3/lib/python3.11/site-packages (from aiohttp->datasets) (2.4.0)\n",
      "Requirement already satisfied: aiosignal>=1.1.2 in /home/akhil/anaconda3/lib/python3.11/site-packages (from aiohttp->datasets) (1.3.1)\n",
      "Requirement already satisfied: attrs>=17.3.0 in /home/akhil/anaconda3/lib/python3.11/site-packages (from aiohttp->datasets) (24.2.0)\n",
      "Requirement already satisfied: frozenlist>=1.1.1 in /home/akhil/anaconda3/lib/python3.11/site-packages (from aiohttp->datasets) (1.4.1)\n",
      "Requirement already satisfied: multidict<7.0,>=4.5 in /home/akhil/anaconda3/lib/python3.11/site-packages (from aiohttp->datasets) (6.1.0)\n",
      "Requirement already satisfied: yarl<2.0,>=1.0 in /home/akhil/anaconda3/lib/python3.11/site-packages (from aiohttp->datasets) (1.11.1)\n",
      "Requirement already satisfied: typing-extensions>=3.7.4.3 in /home/akhil/anaconda3/lib/python3.11/site-packages (from huggingface-hub>=0.23.0->datasets) (4.11.0)\n",
      "Requirement already satisfied: charset-normalizer<4,>=2 in /home/akhil/anaconda3/lib/python3.11/site-packages (from requests>=2.32.2->datasets) (3.3.2)\n",
      "Requirement already satisfied: idna<4,>=2.5 in /home/akhil/anaconda3/lib/python3.11/site-packages (from requests>=2.32.2->datasets) (3.7)\n",
      "Requirement already satisfied: urllib3<3,>=1.21.1 in /home/akhil/anaconda3/lib/python3.11/site-packages (from requests>=2.32.2->datasets) (2.2.3)\n",
      "Requirement already satisfied: certifi>=2017.4.17 in /home/akhil/anaconda3/lib/python3.11/site-packages (from requests>=2.32.2->datasets) (2024.8.30)\n",
      "Requirement already satisfied: python-dateutil>=2.8.2 in /home/akhil/anaconda3/lib/python3.11/site-packages (from pandas->datasets) (2.9.0.post0)\n",
      "Requirement already satisfied: pytz>=2020.1 in /home/akhil/anaconda3/lib/python3.11/site-packages (from pandas->datasets) (2024.1)\n",
      "Requirement already satisfied: tzdata>=2022.7 in /home/akhil/anaconda3/lib/python3.11/site-packages (from pandas->datasets) (2024.1)\n",
      "Requirement already satisfied: six>=1.5 in /home/akhil/anaconda3/lib/python3.11/site-packages (from python-dateutil>=2.8.2->pandas->datasets) (1.16.0)\n",
      "Note: you may need to restart the kernel to use updated packages.\n"
     ]
    }
   ],
   "source": [
    "pip install datasets"
   ]
  },
  {
   "cell_type": "code",
   "execution_count": 5,
   "id": "b35fb22d-1d8b-4eaf-adc4-c453e1691341",
   "metadata": {},
   "outputs": [
    {
     "name": "stderr",
     "output_type": "stream",
     "text": [
      "/home/akhil/anaconda3/lib/python3.11/site-packages/tqdm/auto.py:21: TqdmWarning: IProgress not found. Please update jupyter and ipywidgets. See https://ipywidgets.readthedocs.io/en/stable/user_install.html\n",
      "  from .autonotebook import tqdm as notebook_tqdm\n"
     ]
    }
   ],
   "source": [
    "# import the necessary libraries\n",
    "import os\n",
    "import pandas as pd\n",
    "from datasets import load_dataset\n",
    "from sklearn.model_selection import train_test_split"
   ]
  },
  {
   "cell_type": "code",
   "execution_count": 6,
   "id": "4d55c938-7cc7-4ba5-8f89-d4abb2172be6",
   "metadata": {},
   "outputs": [
    {
     "data": {
      "text/html": [
       "<div>\n",
       "<style scoped>\n",
       "    .dataframe tbody tr th:only-of-type {\n",
       "        vertical-align: middle;\n",
       "    }\n",
       "\n",
       "    .dataframe tbody tr th {\n",
       "        vertical-align: top;\n",
       "    }\n",
       "\n",
       "    .dataframe thead th {\n",
       "        text-align: right;\n",
       "    }\n",
       "</style>\n",
       "<table border=\"1\" class=\"dataframe\">\n",
       "  <thead>\n",
       "    <tr style=\"text-align: right;\">\n",
       "      <th></th>\n",
       "      <th>Text</th>\n",
       "      <th>labels</th>\n",
       "    </tr>\n",
       "  </thead>\n",
       "  <tbody>\n",
       "    <tr>\n",
       "      <th>0</th>\n",
       "      <td>Yes, this product sounds great. I would like t...</td>\n",
       "      <td>positive</td>\n",
       "    </tr>\n",
       "    <tr>\n",
       "      <th>1</th>\n",
       "      <td>I've been looking for something like this. Tel...</td>\n",
       "      <td>positive</td>\n",
       "    </tr>\n",
       "    <tr>\n",
       "      <th>2</th>\n",
       "      <td>This seems useful. Please provide more details.</td>\n",
       "      <td>positive</td>\n",
       "    </tr>\n",
       "    <tr>\n",
       "      <th>3</th>\n",
       "      <td>Sure, I’m interested in your product.</td>\n",
       "      <td>positive</td>\n",
       "    </tr>\n",
       "    <tr>\n",
       "      <th>4</th>\n",
       "      <td>I’m happy with the offer. How do I proceed?</td>\n",
       "      <td>positive</td>\n",
       "    </tr>\n",
       "    <tr>\n",
       "      <th>...</th>\n",
       "      <td>...</td>\n",
       "      <td>...</td>\n",
       "    </tr>\n",
       "    <tr>\n",
       "      <th>295</th>\n",
       "      <td>I’ll need to review this later and get back to...</td>\n",
       "      <td>neutral</td>\n",
       "    </tr>\n",
       "    <tr>\n",
       "      <th>296</th>\n",
       "      <td>I’ll review everything you’ve shared with me b...</td>\n",
       "      <td>neutral</td>\n",
       "    </tr>\n",
       "    <tr>\n",
       "      <th>297</th>\n",
       "      <td>I appreciate the call, but I’m not ready to ma...</td>\n",
       "      <td>neutral</td>\n",
       "    </tr>\n",
       "    <tr>\n",
       "      <th>298</th>\n",
       "      <td>I’ll need to look into your services more befo...</td>\n",
       "      <td>neutral</td>\n",
       "    </tr>\n",
       "    <tr>\n",
       "      <th>299</th>\n",
       "      <td>let me review your services</td>\n",
       "      <td>neutral</td>\n",
       "    </tr>\n",
       "  </tbody>\n",
       "</table>\n",
       "<p>300 rows × 2 columns</p>\n",
       "</div>"
      ],
      "text/plain": [
       "                                                  Text    labels\n",
       "0    Yes, this product sounds great. I would like t...  positive\n",
       "1    I've been looking for something like this. Tel...  positive\n",
       "2      This seems useful. Please provide more details.  positive\n",
       "3                Sure, I’m interested in your product.  positive\n",
       "4          I’m happy with the offer. How do I proceed?  positive\n",
       "..                                                 ...       ...\n",
       "295  I’ll need to review this later and get back to...   neutral\n",
       "296  I’ll review everything you’ve shared with me b...   neutral\n",
       "297  I appreciate the call, but I’m not ready to ma...   neutral\n",
       "298  I’ll need to look into your services more befo...   neutral\n",
       "299                        let me review your services   neutral\n",
       "\n",
       "[300 rows x 2 columns]"
      ]
     },
     "execution_count": 6,
     "metadata": {},
     "output_type": "execute_result"
    }
   ],
   "source": [
    "# read the dataset\n",
    "df = pd.read_csv(\"dataset.csv\")\n",
    "df"
   ]
  },
  {
   "cell_type": "code",
   "execution_count": 7,
   "id": "689edb8f-b0fb-4594-8a05-e9186ee33972",
   "metadata": {},
   "outputs": [
    {
     "data": {
      "text/plain": [
       "Index(['Text', 'labels'], dtype='object')"
      ]
     },
     "execution_count": 7,
     "metadata": {},
     "output_type": "execute_result"
    }
   ],
   "source": [
    "# print the column names\n",
    "df.columns"
   ]
  },
  {
   "cell_type": "code",
   "execution_count": 8,
   "id": "3aa67cb1-0130-4887-8849-4bdab853f4a0",
   "metadata": {},
   "outputs": [
    {
     "data": {
      "text/plain": [
       "labels\n",
       "positive    100\n",
       "negative    100\n",
       "neutral     100\n",
       "Name: count, dtype: int64"
      ]
     },
     "execution_count": 8,
     "metadata": {},
     "output_type": "execute_result"
    }
   ],
   "source": [
    "# get the value count for each class/labels\n",
    "df['labels'].value_counts()"
   ]
  },
  {
   "cell_type": "code",
   "execution_count": 9,
   "id": "940ad423-549a-4114-9d3e-675736fd44a4",
   "metadata": {},
   "outputs": [],
   "source": [
    "# Split the train data => {train, eval}\n",
    "train, eval = train_test_split(df, test_size=0.2, random_state=42, stratify=df['labels'])\n"
   ]
  },
  {
   "cell_type": "code",
   "execution_count": 10,
   "id": "65d0afed-b5ce-427e-8758-0462ec142b29",
   "metadata": {},
   "outputs": [
    {
     "name": "stdout",
     "output_type": "stream",
     "text": [
      "new dataframe shapes: train is (240, 2), eval is (60, 2)\n"
     ]
    }
   ],
   "source": [
    "print(f\"new dataframe shapes: train is {train.shape}, eval is {eval.shape}\")"
   ]
  },
  {
   "cell_type": "code",
   "execution_count": 11,
   "id": "66eef3f0-1af9-4f28-851b-dca02bc11572",
   "metadata": {},
   "outputs": [
    {
     "data": {
      "text/plain": [
       "labels\n",
       "negative    80\n",
       "neutral     80\n",
       "positive    80\n",
       "Name: count, dtype: int64"
      ]
     },
     "execution_count": 11,
     "metadata": {},
     "output_type": "execute_result"
    }
   ],
   "source": [
    "train['labels'].value_counts()"
   ]
  },
  {
   "cell_type": "code",
   "execution_count": 12,
   "id": "5ca2ce30-24e6-48bc-94c8-10c363f1ebfb",
   "metadata": {},
   "outputs": [
    {
     "data": {
      "text/plain": [
       "labels\n",
       "negative    20\n",
       "positive    20\n",
       "neutral     20\n",
       "Name: count, dtype: int64"
      ]
     },
     "execution_count": 12,
     "metadata": {},
     "output_type": "execute_result"
    }
   ],
   "source": [
    "eval['labels'].value_counts()"
   ]
  },
  {
   "cell_type": "code",
   "execution_count": 13,
   "id": "ae9beb1d-3e5d-4799-9e24-6acc4aa9ef9a",
   "metadata": {},
   "outputs": [],
   "source": [
    "# Save splitted subsets\n",
    "\n",
    "train.to_csv(\"train_subset.csv\", index=False)\n",
    "eval.to_csv(\"eval_subset.csv\", index=False)"
   ]
  },
  {
   "cell_type": "code",
   "execution_count": 15,
   "id": "f0400356-b972-49bd-b4b3-6fea40ebd260",
   "metadata": {},
   "outputs": [
    {
     "name": "stderr",
     "output_type": "stream",
     "text": [
      "Generating train split: 240 examples [00:00, 28634.13 examples/s]\n",
      "Generating eval split: 60 examples [00:00, 13998.12 examples/s]\n"
     ]
    }
   ],
   "source": [
    "dataset = load_dataset('csv',\n",
    "                        data_files={'train': 'train_subset.csv',\n",
    "                        'eval': 'eval_subset.csv'}, encoding = \"ISO-8859-1\")"
   ]
  },
  {
   "cell_type": "code",
   "execution_count": 16,
   "id": "67f205cc-a7b4-4e29-b050-1497e41ef589",
   "metadata": {},
   "outputs": [
    {
     "name": "stderr",
     "output_type": "stream",
     "text": [
      "Map: 100%|█████████████████████████████████████████████████████████████████████████████████████████████████████████████████████████████████████████████████████████████| 240/240 [00:00<00:00, 14177.73 examples/s]\n",
      "Map: 100%|████████████████████████████████████████████████████████████████████████████████████████████████████████████████████████████████████████████████████████████████| 60/60 [00:00<00:00, 6561.12 examples/s]\n"
     ]
    }
   ],
   "source": [
    "#create a function to convert label\n",
    "def transform_labels(label):\n",
    "\n",
    "    label = label['labels']\n",
    "    num = 0\n",
    "    if label == 'negative':\n",
    "        num = 0\n",
    "    elif label == 'neutral':\n",
    "        num = 1\n",
    "    elif label == 'positive':\n",
    "        num = 2\n",
    "\n",
    "    return {'labels': num}\n",
    "\n",
    "\n",
    "# Transform labels and remove the useless columns\n",
    "dataset = dataset.map(transform_labels)"
   ]
  },
  {
   "cell_type": "code",
   "execution_count": 17,
   "id": "a6229f4d-9d60-4d3b-9af3-227fc0dfd1c1",
   "metadata": {},
   "outputs": [],
   "source": [
    "from dotenv import load_dotenv\n",
    "import os"
   ]
  },
  {
   "cell_type": "code",
   "execution_count": 18,
   "id": "445423e3-41cd-4ec0-87b9-dd569c2f48b5",
   "metadata": {},
   "outputs": [],
   "source": [
    "# Load environment variables from .env\n",
    "load_dotenv()\n",
    "\n",
    "# Get the Hugging Face token\n",
    "hf_auth_token = os.getenv(\"hf_token\")"
   ]
  },
  {
   "cell_type": "code",
   "execution_count": 20,
   "id": "77ef4cbe-4e9f-46db-9b62-aa0f8b5a670e",
   "metadata": {},
   "outputs": [
    {
     "name": "stderr",
     "output_type": "stream",
     "text": [
      "/home/akhil/anaconda3/lib/python3.11/site-packages/transformers/models/auto/tokenization_auto.py:809: FutureWarning: The `use_auth_token` argument is deprecated and will be removed in v5 of Transformers. Please use `token` instead.\n",
      "  warnings.warn(\n"
     ]
    }
   ],
   "source": [
    "from transformers import AutoTokenizer\n",
    "# tokenizer = AutoTokenizer.from_pretrained('distilbert-base-uncase')\n",
    "\n",
    "tokenizer = AutoTokenizer.from_pretrained(\n",
    "    'distilbert-base-uncased',\n",
    "    use_auth_token = hf_auth_token\n",
    ")\n",
    "\n",
    "\n",
    "# let's tokenize the data for the model to be able to understand\n",
    "def tokenize_data(example):\n",
    "    return tokenizer(example['Text'], padding='max_length')"
   ]
  },
  {
   "cell_type": "code",
   "execution_count": 21,
   "id": "d151ccd7-e161-48fc-829a-56ab4147b02c",
   "metadata": {},
   "outputs": [
    {
     "name": "stderr",
     "output_type": "stream",
     "text": [
      "Map: 100%|██████████████████████████████████████████████████████████████████████████████████████████████████████████████████████████████████████████████████████████████| 240/240 [00:00<00:00, 2506.69 examples/s]\n",
      "Map: 100%|████████████████████████████████████████████████████████████████████████████████████████████████████████████████████████████████████████████████████████████████| 60/60 [00:00<00:00, 2380.99 examples/s]\n"
     ]
    }
   ],
   "source": [
    "dataset = dataset.map(tokenize_data, batched=True)"
   ]
  },
  {
   "cell_type": "code",
   "execution_count": 22,
   "id": "73c11323-817f-4bd1-bedd-464b904183bf",
   "metadata": {},
   "outputs": [
    {
     "data": {
      "text/plain": [
       "DatasetDict({\n",
       "    train: Dataset({\n",
       "        features: ['Text', 'labels', 'input_ids', 'attention_mask'],\n",
       "        num_rows: 240\n",
       "    })\n",
       "    eval: Dataset({\n",
       "        features: ['Text', 'labels', 'input_ids', 'attention_mask'],\n",
       "        num_rows: 60\n",
       "    })\n",
       "})"
      ]
     },
     "execution_count": 22,
     "metadata": {},
     "output_type": "execute_result"
    }
   ],
   "source": [
    "dataset"
   ]
  },
  {
   "cell_type": "code",
   "execution_count": 23,
   "id": "ebf2ea34-b4d8-4f22-9ee0-1ebfca2579bf",
   "metadata": {},
   "outputs": [
    {
     "name": "stderr",
     "output_type": "stream",
     "text": [
      "/home/akhil/anaconda3/lib/python3.11/site-packages/transformers/models/auto/auto_factory.py:471: FutureWarning: The `use_auth_token` argument is deprecated and will be removed in v5 of Transformers. Please use `token` instead.\n",
      "  warnings.warn(\n",
      "2024-12-03 09:27:40.506151: I tensorflow/core/util/port.cc:113] oneDNN custom operations are on. You may see slightly different numerical results due to floating-point round-off errors from different computation orders. To turn them off, set the environment variable `TF_ENABLE_ONEDNN_OPTS=0`.\n",
      "2024-12-03 09:27:40.556611: E external/local_xla/xla/stream_executor/cuda/cuda_dnn.cc:9261] Unable to register cuDNN factory: Attempting to register factory for plugin cuDNN when one has already been registered\n",
      "2024-12-03 09:27:40.556656: E external/local_xla/xla/stream_executor/cuda/cuda_fft.cc:607] Unable to register cuFFT factory: Attempting to register factory for plugin cuFFT when one has already been registered\n",
      "2024-12-03 09:27:40.557680: E external/local_xla/xla/stream_executor/cuda/cuda_blas.cc:1515] Unable to register cuBLAS factory: Attempting to register factory for plugin cuBLAS when one has already been registered\n",
      "2024-12-03 09:27:40.564212: I tensorflow/core/platform/cpu_feature_guard.cc:182] This TensorFlow binary is optimized to use available CPU instructions in performance-critical operations.\n",
      "To enable the following instructions: AVX2 AVX_VNNI FMA, in other operations, rebuild TensorFlow with the appropriate compiler flags.\n",
      "2024-12-03 09:27:42.226957: W tensorflow/compiler/tf2tensorrt/utils/py_utils.cc:38] TF-TRT Warning: Could not find TensorRT\n",
      "Some weights of DistilBertForSequenceClassification were not initialized from the model checkpoint at distilbert-base-uncased and are newly initialized: ['classifier.bias', 'classifier.weight', 'pre_classifier.bias', 'pre_classifier.weight']\n",
      "You should probably TRAIN this model on a down-stream task to be able to use it for predictions and inference.\n"
     ]
    }
   ],
   "source": [
    "from transformers import AutoModelForSequenceClassification\n",
    "\n",
    "# Loading a pretrain model while specifying the number of labels in our dataset for fine-tuning\n",
    "model = AutoModelForSequenceClassification.from_pretrained(\"distilbert-base-uncased\", \n",
    "                                                            num_labels=3,\n",
    "                                                            use_auth_token = hf_auth_token)"
   ]
  },
  {
   "cell_type": "code",
   "execution_count": 24,
   "id": "dbaa0ec0-9b5f-4f9f-b716-87b6684fa576",
   "metadata": {},
   "outputs": [
    {
     "name": "stderr",
     "output_type": "stream",
     "text": [
      "/home/akhil/anaconda3/lib/python3.11/site-packages/transformers/training_args.py:1568: FutureWarning: `evaluation_strategy` is deprecated and will be removed in version 4.46 of 🤗 Transformers. Use `eval_strategy` instead\n",
      "  warnings.warn(\n"
     ]
    }
   ],
   "source": [
    "# let's set the training arguements\n",
    "\n",
    "# the default batch size for training arguments\n",
    "batch_size = 8\n",
    "\n",
    "# set number of epochs\n",
    "number_of_epochs = 7\n",
    "# let set the logging steps\n",
    "logging_steps = len(dataset['train']) // batch_size # it should log each batch \n",
    "\n",
    "steps = (len(dataset['train']) / batch_size) * number_of_epochs\n",
    "warmup_steps = int(0.2 * steps)\n",
    "\n",
    "\n",
    "\n",
    "from transformers import TrainingArguments\n",
    "training_args = TrainingArguments(\n",
    "                                  num_train_epochs=number_of_epochs, \n",
    "                                  load_best_model_at_end=True,\n",
    "                                  evaluation_strategy='steps', \n",
    "                                  save_strategy='steps',\n",
    "                                  learning_rate=2e-5,\n",
    "                                  logging_steps=logging_steps,\n",
    "                                  warmup_steps= warmup_steps,\n",
    "                                  save_steps=1000,\n",
    "                                  eval_steps=500,\n",
    "                                  output_dir=\"fine-tuned-distilbert-base-uncased\"\n",
    "                                  )"
   ]
  },
  {
   "cell_type": "code",
   "execution_count": 25,
   "id": "ed830853-436c-42ca-8efa-39b110348f03",
   "metadata": {},
   "outputs": [],
   "source": [
    "# shuffle the datasets\n",
    "\n",
    "train_dataset = dataset['train'].shuffle(seed=10) \n",
    "eval_dataset = dataset['eval'].shuffle(seed=10)"
   ]
  },
  {
   "cell_type": "code",
   "execution_count": 26,
   "id": "72207919-b585-4007-949c-e443c41e0908",
   "metadata": {},
   "outputs": [],
   "source": [
    "from transformers import Trainer\n",
    "\n",
    "trainer = Trainer(\n",
    "    model=model, args=training_args, train_dataset=train_dataset, eval_dataset=eval_dataset\n",
    ")"
   ]
  },
  {
   "cell_type": "code",
   "execution_count": 27,
   "id": "0f75e87c-bb3e-4b87-95e1-e4d5a05f3703",
   "metadata": {},
   "outputs": [
    {
     "data": {
      "text/html": [
       "\n",
       "    <div>\n",
       "      \n",
       "      <progress value='210' max='210' style='width:300px; height:20px; vertical-align: middle;'></progress>\n",
       "      [210/210 27:54, Epoch 7/7]\n",
       "    </div>\n",
       "    <table border=\"1\" class=\"dataframe\">\n",
       "  <thead>\n",
       " <tr style=\"text-align: left;\">\n",
       "      <th>Step</th>\n",
       "      <th>Training Loss</th>\n",
       "      <th>Validation Loss</th>\n",
       "    </tr>\n",
       "  </thead>\n",
       "  <tbody>\n",
       "  </tbody>\n",
       "</table><p>"
      ],
      "text/plain": [
       "<IPython.core.display.HTML object>"
      ]
     },
     "metadata": {},
     "output_type": "display_data"
    },
    {
     "data": {
      "text/plain": [
       "TrainOutput(global_step=210, training_loss=0.38111157672745843, metrics={'train_runtime': 1679.9491, 'train_samples_per_second': 1.0, 'train_steps_per_second': 0.125, 'total_flos': 222549198520320.0, 'train_loss': 0.38111157672745843, 'epoch': 7.0})"
      ]
     },
     "execution_count": 27,
     "metadata": {},
     "output_type": "execute_result"
    }
   ],
   "source": [
    "# Launch the learning process: training \n",
    "trainer.train()"
   ]
  },
  {
   "cell_type": "code",
   "execution_count": 28,
   "id": "244ce9f6-ff41-494a-8c1a-cb3f64ad93ea",
   "metadata": {},
   "outputs": [],
   "source": [
    "# save the model locally\n",
    "trainer.save_model(\"./models/\")"
   ]
  },
  {
   "cell_type": "code",
   "execution_count": 29,
   "id": "b0c048c9-3eab-485e-9e7d-4d0a20b9dc7a",
   "metadata": {},
   "outputs": [],
   "source": [
    "# load the tokenizer\n",
    "tokenizer = AutoTokenizer.from_pretrained(\"distilbert-base-uncased\")"
   ]
  },
  {
   "cell_type": "code",
   "execution_count": 30,
   "id": "7957296e-2cf1-414a-b4b9-4801c1efc246",
   "metadata": {},
   "outputs": [
    {
     "data": {
      "text/plain": [
       "('distilbert-base-uncased/tokenizer_config.json',\n",
       " 'distilbert-base-uncased/special_tokens_map.json',\n",
       " 'distilbert-base-uncased/vocab.txt',\n",
       " 'distilbert-base-uncased/added_tokens.json',\n",
       " 'distilbert-base-uncased/tokenizer.json')"
      ]
     },
     "execution_count": 30,
     "metadata": {},
     "output_type": "execute_result"
    }
   ],
   "source": [
    "# save the tokeniser locally\n",
    "tokenizer.save_pretrained(\"distilbert-base-uncased\")"
   ]
  },
  {
   "cell_type": "code",
   "execution_count": 31,
   "id": "a0673f2d-76cf-46a5-8882-faed8344f5c6",
   "metadata": {},
   "outputs": [
    {
     "name": "stderr",
     "output_type": "stream",
     "text": [
      "huggingface/tokenizers: The current process just got forked, after parallelism has already been used. Disabling parallelism to avoid deadlocks...\n",
      "To disable this warning, you can either:\n",
      "\t- Avoid using `tokenizers` before the fork if possible\n",
      "\t- Explicitly set the environment variable TOKENIZERS_PARALLELISM=(true | false)\n"
     ]
    },
    {
     "name": "stdout",
     "output_type": "stream",
     "text": [
      "\u001b[33mDEPRECATION: Loading egg at /home/akhil/anaconda3/lib/python3.11/site-packages/huggingface_hub-0.26.2-py3.8.egg is deprecated. pip 24.3 will enforce this behaviour change. A possible replacement is to use pip for package installation. Discussion can be found at https://github.com/pypa/pip/issues/12330\u001b[0m\u001b[33m\n",
      "\u001b[0mRequirement already satisfied: evaluate in /home/akhil/anaconda3/lib/python3.11/site-packages (0.4.3)\n",
      "Requirement already satisfied: datasets>=2.0.0 in /home/akhil/anaconda3/lib/python3.11/site-packages (from evaluate) (3.1.0)\n",
      "Requirement already satisfied: numpy>=1.17 in /home/akhil/anaconda3/lib/python3.11/site-packages (from evaluate) (1.24.4)\n",
      "Requirement already satisfied: dill in /home/akhil/anaconda3/lib/python3.11/site-packages (from evaluate) (0.3.8)\n",
      "Requirement already satisfied: pandas in /home/akhil/anaconda3/lib/python3.11/site-packages (from evaluate) (2.2.2)\n",
      "Requirement already satisfied: requests>=2.19.0 in /home/akhil/anaconda3/lib/python3.11/site-packages (from evaluate) (2.32.3)\n",
      "Requirement already satisfied: tqdm>=4.62.1 in /home/akhil/anaconda3/lib/python3.11/site-packages (from evaluate) (4.66.5)\n",
      "Requirement already satisfied: xxhash in /home/akhil/anaconda3/lib/python3.11/site-packages (from evaluate) (3.5.0)\n",
      "Requirement already satisfied: multiprocess in /home/akhil/anaconda3/lib/python3.11/site-packages (from evaluate) (0.70.16)\n",
      "Requirement already satisfied: fsspec>=2021.05.0 in /home/akhil/anaconda3/lib/python3.11/site-packages (from fsspec[http]>=2021.05.0->evaluate) (2024.6.1)\n",
      "Requirement already satisfied: huggingface-hub>=0.7.0 in /home/akhil/anaconda3/lib/python3.11/site-packages/huggingface_hub-0.26.2-py3.8.egg (from evaluate) (0.26.2)\n",
      "Requirement already satisfied: packaging in /home/akhil/anaconda3/lib/python3.11/site-packages (from evaluate) (24.1)\n",
      "Requirement already satisfied: filelock in /home/akhil/anaconda3/lib/python3.11/site-packages (from datasets>=2.0.0->evaluate) (3.13.1)\n",
      "Requirement already satisfied: pyarrow>=15.0.0 in /home/akhil/anaconda3/lib/python3.11/site-packages (from datasets>=2.0.0->evaluate) (17.0.0)\n",
      "Requirement already satisfied: aiohttp in /home/akhil/anaconda3/lib/python3.11/site-packages (from datasets>=2.0.0->evaluate) (3.10.5)\n",
      "Requirement already satisfied: pyyaml>=5.1 in /home/akhil/anaconda3/lib/python3.11/site-packages (from datasets>=2.0.0->evaluate) (6.0.2)\n",
      "Requirement already satisfied: typing-extensions>=3.7.4.3 in /home/akhil/anaconda3/lib/python3.11/site-packages (from huggingface-hub>=0.7.0->evaluate) (4.11.0)\n",
      "Requirement already satisfied: charset-normalizer<4,>=2 in /home/akhil/anaconda3/lib/python3.11/site-packages (from requests>=2.19.0->evaluate) (3.3.2)\n",
      "Requirement already satisfied: idna<4,>=2.5 in /home/akhil/anaconda3/lib/python3.11/site-packages (from requests>=2.19.0->evaluate) (3.7)\n",
      "Requirement already satisfied: urllib3<3,>=1.21.1 in /home/akhil/anaconda3/lib/python3.11/site-packages (from requests>=2.19.0->evaluate) (2.2.3)\n",
      "Requirement already satisfied: certifi>=2017.4.17 in /home/akhil/anaconda3/lib/python3.11/site-packages (from requests>=2.19.0->evaluate) (2024.8.30)\n",
      "Requirement already satisfied: python-dateutil>=2.8.2 in /home/akhil/anaconda3/lib/python3.11/site-packages (from pandas->evaluate) (2.9.0.post0)\n",
      "Requirement already satisfied: pytz>=2020.1 in /home/akhil/anaconda3/lib/python3.11/site-packages (from pandas->evaluate) (2024.1)\n",
      "Requirement already satisfied: tzdata>=2022.7 in /home/akhil/anaconda3/lib/python3.11/site-packages (from pandas->evaluate) (2024.1)\n",
      "Requirement already satisfied: aiohappyeyeballs>=2.3.0 in /home/akhil/anaconda3/lib/python3.11/site-packages (from aiohttp->datasets>=2.0.0->evaluate) (2.4.0)\n",
      "Requirement already satisfied: aiosignal>=1.1.2 in /home/akhil/anaconda3/lib/python3.11/site-packages (from aiohttp->datasets>=2.0.0->evaluate) (1.3.1)\n",
      "Requirement already satisfied: attrs>=17.3.0 in /home/akhil/anaconda3/lib/python3.11/site-packages (from aiohttp->datasets>=2.0.0->evaluate) (24.2.0)\n",
      "Requirement already satisfied: frozenlist>=1.1.1 in /home/akhil/anaconda3/lib/python3.11/site-packages (from aiohttp->datasets>=2.0.0->evaluate) (1.4.1)\n",
      "Requirement already satisfied: multidict<7.0,>=4.5 in /home/akhil/anaconda3/lib/python3.11/site-packages (from aiohttp->datasets>=2.0.0->evaluate) (6.1.0)\n",
      "Requirement already satisfied: yarl<2.0,>=1.0 in /home/akhil/anaconda3/lib/python3.11/site-packages (from aiohttp->datasets>=2.0.0->evaluate) (1.11.1)\n",
      "Requirement already satisfied: six>=1.5 in /home/akhil/anaconda3/lib/python3.11/site-packages (from python-dateutil>=2.8.2->pandas->evaluate) (1.16.0)\n",
      "Note: you may need to restart the kernel to use updated packages.\n"
     ]
    }
   ],
   "source": [
    "pip install evaluate\n"
   ]
  },
  {
   "cell_type": "code",
   "execution_count": 32,
   "id": "bb6d3c85-6cb6-4c7d-a014-abb9394f29a2",
   "metadata": {},
   "outputs": [],
   "source": [
    "import numpy as np\n",
    "from sklearn.metrics import mean_squared_error\n",
    "import evaluate\n",
    "\n",
    "def compute_metrics(eval_pred):\n",
    "    # Load the metrics to use\n",
    "    accuracy_metric = evaluate.load(\"accuracy\")\n",
    "    f1_metric = evaluate.load(\"f1\")\n",
    "\n",
    "    logits, labels = eval_pred\n",
    "    predictions = np.argmax(logits, axis=-1)\n",
    "\n",
    "    # Calculate the metrics using the predicted and true values\n",
    "    accuracy = accuracy_metric.compute(predictions=predictions, references=labels)\n",
    "    f1 = f1_metric.compute(predictions=predictions, references=labels, average=\"weighted\")\n",
    "\n",
    "    return {\"accuracy\": accuracy[\"accuracy\"], \"f1score\": f1[\"f1\"]}\n"
   ]
  },
  {
   "cell_type": "code",
   "execution_count": 33,
   "id": "cf18690a-39f5-4416-a47a-5e8d7aab422c",
   "metadata": {},
   "outputs": [],
   "source": [
    "trainer = Trainer(\n",
    "    model=model,\n",
    "    args=training_args,\n",
    "    train_dataset=train_dataset,\n",
    "    eval_dataset=eval_dataset,\n",
    "    compute_metrics=compute_metrics,\n",
    "\n",
    ")"
   ]
  },
  {
   "cell_type": "code",
   "execution_count": 34,
   "id": "538ed7a9-80a7-44ac-a8f8-04f2fa7f17f6",
   "metadata": {},
   "outputs": [
    {
     "data": {
      "text/html": [
       "\n",
       "    <div>\n",
       "      \n",
       "      <progress value='8' max='8' style='width:300px; height:20px; vertical-align: middle;'></progress>\n",
       "      [8/8 00:16]\n",
       "    </div>\n",
       "    "
      ],
      "text/plain": [
       "<IPython.core.display.HTML object>"
      ]
     },
     "metadata": {},
     "output_type": "display_data"
    },
    {
     "data": {
      "text/plain": [
       "{'eval_loss': 0.22252653539180756,\n",
       " 'eval_model_preparation_time': 0.0026,\n",
       " 'eval_accuracy': 0.9333333333333333,\n",
       " 'eval_f1score': 0.9328955597248282,\n",
       " 'eval_runtime': 23.4251,\n",
       " 'eval_samples_per_second': 2.561,\n",
       " 'eval_steps_per_second': 0.342}"
      ]
     },
     "execution_count": 34,
     "metadata": {},
     "output_type": "execute_result"
    }
   ],
   "source": [
    "# Evaluate the fine-tuned model \n",
    "trainer.evaluate()"
   ]
  },
  {
   "cell_type": "code",
   "execution_count": 35,
   "id": "ecf3ea5b-57f7-4ab5-90a2-90ff69075ece",
   "metadata": {},
   "outputs": [
    {
     "name": "stderr",
     "output_type": "stream",
     "text": [
      "huggingface/tokenizers: The current process just got forked, after parallelism has already been used. Disabling parallelism to avoid deadlocks...\n",
      "To disable this warning, you can either:\n",
      "\t- Avoid using `tokenizers` before the fork if possible\n",
      "\t- Explicitly set the environment variable TOKENIZERS_PARALLELISM=(true | false)\n"
     ]
    },
    {
     "name": "stdout",
     "output_type": "stream",
     "text": [
      "Requirement already satisfied: huggingface_hub in ./sent_anal_env/lib/python3.11/site-packages (0.26.3)\n",
      "Requirement already satisfied: filelock in ./sent_anal_env/lib/python3.11/site-packages (from huggingface_hub) (3.16.1)\n",
      "Requirement already satisfied: fsspec>=2023.5.0 in ./sent_anal_env/lib/python3.11/site-packages (from huggingface_hub) (2024.9.0)\n",
      "Requirement already satisfied: packaging>=20.9 in ./sent_anal_env/lib/python3.11/site-packages (from huggingface_hub) (24.2)\n",
      "Requirement already satisfied: pyyaml>=5.1 in ./sent_anal_env/lib/python3.11/site-packages (from huggingface_hub) (6.0.2)\n",
      "Requirement already satisfied: requests in ./sent_anal_env/lib/python3.11/site-packages (from huggingface_hub) (2.32.3)\n",
      "Requirement already satisfied: tqdm>=4.42.1 in ./sent_anal_env/lib/python3.11/site-packages (from huggingface_hub) (4.67.1)\n",
      "Requirement already satisfied: typing-extensions>=3.7.4.3 in ./sent_anal_env/lib/python3.11/site-packages (from huggingface_hub) (4.12.2)\n",
      "Requirement already satisfied: charset-normalizer<4,>=2 in ./sent_anal_env/lib/python3.11/site-packages (from requests->huggingface_hub) (3.4.0)\n",
      "Requirement already satisfied: idna<4,>=2.5 in ./sent_anal_env/lib/python3.11/site-packages (from requests->huggingface_hub) (3.10)\n",
      "Requirement already satisfied: urllib3<3,>=1.21.1 in ./sent_anal_env/lib/python3.11/site-packages (from requests->huggingface_hub) (2.2.3)\n",
      "Requirement already satisfied: certifi>=2017.4.17 in ./sent_anal_env/lib/python3.11/site-packages (from requests->huggingface_hub) (2024.8.30)\n",
      "\n",
      "\u001b[1m[\u001b[0m\u001b[34;49mnotice\u001b[0m\u001b[1;39;49m]\u001b[0m\u001b[39;49m A new release of pip is available: \u001b[0m\u001b[31;49m24.0\u001b[0m\u001b[39;49m -> \u001b[0m\u001b[32;49m24.3.1\u001b[0m\n",
      "\u001b[1m[\u001b[0m\u001b[34;49mnotice\u001b[0m\u001b[1;39;49m]\u001b[0m\u001b[39;49m To update, run: \u001b[0m\u001b[32;49mpip install --upgrade pip\u001b[0m\n"
     ]
    }
   ],
   "source": [
    "!pip install huggingface_hub\n"
   ]
  },
  {
   "cell_type": "code",
   "execution_count": 36,
   "id": "36ee3ae7-c292-46bc-8906-d2ed30e35809",
   "metadata": {},
   "outputs": [
    {
     "name": "stdout",
     "output_type": "stream",
     "text": [
      "The token has not been saved to the git credentials helper. Pass `add_to_git_credential=True` in this function directly or `--add-to-git-credential` if using via `huggingface-cli` if you want to set the git credential as well.\n",
      "Token is valid (permission: fineGrained).\n",
      "Your token has been saved to /home/akhil/.cache/huggingface/token\n",
      "Login successful\n"
     ]
    }
   ],
   "source": [
    "from huggingface_hub import login\n",
    "\n",
    "# Log in using your Hugging Face API token\n",
    "login(token=hf_auth_token)\n"
   ]
  },
  {
   "cell_type": "code",
   "execution_count": 37,
   "id": "c9dab572-3d52-48de-8422-0d5bfa568b55",
   "metadata": {},
   "outputs": [
    {
     "name": "stdout",
     "output_type": "stream",
     "text": [
      "{'type': 'user', 'id': '661e4fff80a4867a5518b9ce', 'name': 'AkhilJX', 'fullname': 'K Akhil JX', 'isPro': False, 'avatarUrl': '/avatars/7b70827e6cdafde1dd6716004c5b9706.svg', 'orgs': [], 'auth': {'type': 'access_token', 'accessToken': {'displayName': 'sentiment_analysis_test', 'role': 'fineGrained', 'createdAt': '2024-11-28T05:47:43.062Z', 'fineGrained': {'canReadGatedRepos': True, 'global': [], 'scoped': [{'entity': {'_id': '661e4fff80a4867a5518b9ce', 'type': 'user', 'name': 'AkhilJX'}, 'permissions': ['repo.content.read', 'repo.write']}]}}}}\n"
     ]
    }
   ],
   "source": [
    "from huggingface_hub import whoami\n",
    "\n",
    "# Check if you're logged in\n",
    "user_info = whoami()\n",
    "print(user_info)\n"
   ]
  },
  {
   "cell_type": "code",
   "execution_count": 38,
   "id": "0c8dc14b-7cb5-4061-a3c4-1e221897cd02",
   "metadata": {},
   "outputs": [
    {
     "name": "stderr",
     "output_type": "stream",
     "text": [
      "events.out.tfevents.1733198272.LT-090.29620.0:   0%|                                                                                                                                   | 0.00/6.94k [00:00<?, ?B/s]\n",
      "model.safetensors:   0%|                                                                                                                                                                | 0.00/268M [00:00<?, ?B/s]\u001b[A\n",
      "\n",
      "training_args.bin:   0%|                                                                                                                                                               | 0.00/5.30k [00:00<?, ?B/s]\u001b[A\u001b[A\n",
      "\n",
      "\n",
      "events.out.tfevents.1733199979.LT-090.29620.1:   0%|                                                                                                                                     | 0.00/457 [00:00<?, ?B/s]\u001b[A\u001b[A\u001b[A\n",
      "\n",
      "\n",
      "\n",
      "Upload 4 LFS files:   0%|                                                                                                                                                                    | 0/4 [00:00<?, ?it/s]\u001b[A\u001b[A\u001b[A\u001b[A\n",
      "\n",
      "\n",
      "events.out.tfevents.1733198272.LT-090.29620.0: 100%|██████████████████████████████████████████████████████████████████████████████████████████████████████████████████████████| 6.94k/6.94k [00:00<00:00, 41.7kB/s]\u001b[A\u001b[A\u001b[A\n",
      "\n",
      "training_args.bin: 100%|██████████████████████████████████████████████████████████████████████████████████████████████████████████████████████████████████████████████████████| 5.30k/5.30k [00:00<00:00, 33.9kB/s]\u001b[A\u001b[A\n",
      "model.safetensors:   0%|                                                                                                                                                        | 16.4k/268M [00:00<44:30, 100kB/s]\u001b[A\n",
      "training_args.bin: 100%|██████████████████████████████████████████████████████████████████████████████████████████████████████████████████████████████████████████████████████| 5.30k/5.30k [00:00<00:00, 11.9kB/s]\u001b[A\n",
      "events.out.tfevents.1733199979.LT-090.29620.1: 100%|██████████████████████████████████████████████████████████████████████████████████████████████████████████████████████████████| 457/457 [00:00<00:00, 1.01kB/s]\n",
      "events.out.tfevents.1733198272.LT-090.29620.0: 100%|██████████████████████████████████████████████████████████████████████████████████████████████████████████████████████████| 6.94k/6.94k [00:01<00:00, 6.36kB/s]\n",
      "\n",
      "model.safetensors:   2%|██▍                                                                                                                                                    | 4.42M/268M [00:01<01:10, 3.74MB/s]\u001b[A\n",
      "model.safetensors:   2%|███▎                                                                                                                                                   | 5.77M/268M [00:01<01:17, 3.39MB/s]\u001b[A\n",
      "model.safetensors:   3%|████                                                                                                                                                   | 7.13M/268M [00:02<01:28, 2.96MB/s]\u001b[A\n",
      "model.safetensors:   3%|████▊                                                                                                                                                  | 8.47M/268M [00:02<01:21, 3.20MB/s]\u001b[A\n",
      "model.safetensors:   4%|█████▍                                                                                                                                                 | 9.75M/268M [00:02<01:10, 3.64MB/s]\u001b[A\n",
      "model.safetensors:   4%|██████▏                                                                                                                                                | 11.0M/268M [00:03<00:59, 4.28MB/s]\u001b[A\n",
      "model.safetensors:   5%|██████▉                                                                                                                                                | 12.4M/268M [00:03<00:51, 4.91MB/s]\u001b[A\n",
      "model.safetensors:   5%|███████▋                                                                                                                                               | 13.7M/268M [00:03<00:45, 5.55MB/s]\u001b[A\n",
      "model.safetensors:   6%|████████▍                                                                                                                                              | 15.0M/268M [00:03<00:41, 6.04MB/s]\u001b[A\n",
      "model.safetensors:   6%|█████████                                                                                                                                              | 16.0M/268M [00:04<01:29, 2.81MB/s]\u001b[A\n",
      "model.safetensors:   7%|███████████▏                                                                                                                                           | 19.8M/268M [00:04<00:54, 4.53MB/s]\u001b[A\n",
      "model.safetensors:   8%|███████████▊                                                                                                                                           | 21.1M/268M [00:05<01:00, 4.08MB/s]\u001b[A\n",
      "model.safetensors:   8%|████████████▋                                                                                                                                          | 22.5M/268M [00:05<01:06, 3.71MB/s]\u001b[A\n",
      "model.safetensors:   9%|█████████████▍                                                                                                                                         | 23.9M/268M [00:06<01:07, 3.59MB/s]\u001b[A\n",
      "model.safetensors:   9%|██████████████▏                                                                                                                                        | 25.2M/268M [00:06<01:08, 3.55MB/s]\u001b[A\n",
      "model.safetensors:  10%|██████████████▉                                                                                                                                        | 26.5M/268M [00:06<00:56, 4.28MB/s]\u001b[A\n",
      "model.safetensors:  10%|███████████████▋                                                                                                                                       | 27.8M/268M [00:06<00:48, 4.91MB/s]\u001b[A\n",
      "model.safetensors:  11%|████████████████▍                                                                                                                                      | 29.1M/268M [00:07<00:43, 5.48MB/s]\u001b[A\n",
      "model.safetensors:  11%|█████████████████▏                                                                                                                                     | 30.5M/268M [00:07<00:37, 6.26MB/s]\u001b[A\n",
      "model.safetensors:  12%|█████████████████▉                                                                                                                                     | 31.8M/268M [00:07<00:33, 6.95MB/s]\u001b[A\n",
      "model.safetensors:  12%|██████████████████▍                                                                                                                                    | 32.7M/268M [00:07<00:58, 4.04MB/s]\u001b[A\n",
      "model.safetensors:  13%|████████████████████▏                                                                                                                                  | 35.8M/268M [00:08<00:42, 5.50MB/s]\u001b[A\n",
      "model.safetensors:  14%|████████████████████▉                                                                                                                                  | 37.2M/268M [00:08<00:46, 4.95MB/s]\u001b[A\n",
      "model.safetensors:  14%|█████████████████████▊                                                                                                                                 | 38.7M/268M [00:09<00:49, 4.66MB/s]\u001b[A\n",
      "model.safetensors:  15%|██████████████████████▋                                                                                                                                | 40.2M/268M [00:09<00:49, 4.64MB/s]\u001b[A\n",
      "model.safetensors:  16%|███████████████████████▌                                                                                                                               | 41.7M/268M [00:09<00:48, 4.63MB/s]\u001b[A\n",
      "model.safetensors:  16%|████████████████████████▎                                                                                                                              | 43.1M/268M [00:10<00:48, 4.62MB/s]\u001b[A\n",
      "model.safetensors:  17%|█████████████████████████                                                                                                                              | 44.4M/268M [00:10<00:42, 5.31MB/s]\u001b[A\n",
      "model.safetensors:  17%|█████████████████████████▊                                                                                                                             | 45.8M/268M [00:10<00:38, 5.71MB/s]\u001b[A\n",
      "model.safetensors:  18%|██████████████████████████▌                                                                                                                            | 47.2M/268M [00:10<00:32, 6.76MB/s]\u001b[A\n",
      "model.safetensors:  18%|███████████████████████████                                                                                                                            | 48.0M/268M [00:11<01:00, 3.61MB/s]\u001b[A\n",
      "model.safetensors:  19%|█████████████████████████████▏                                                                                                                         | 51.8M/268M [00:11<00:38, 5.68MB/s]\u001b[A\n",
      "model.safetensors:  20%|██████████████████████████████                                                                                                                         | 53.2M/268M [00:11<00:38, 5.62MB/s]\u001b[A\n",
      "model.safetensors:  20%|██████████████████████████████▊                                                                                                                        | 54.6M/268M [00:12<00:40, 5.31MB/s]\u001b[A\n",
      "model.safetensors:  21%|███████████████████████████████▌                                                                                                                       | 56.1M/268M [00:12<00:40, 5.17MB/s]\u001b[A\n",
      "model.safetensors:  22%|████████████████████████████████▍                                                                                                                      | 57.6M/268M [00:12<00:41, 5.11MB/s]\u001b[A\n",
      "model.safetensors:  22%|█████████████████████████████████▎                                                                                                                     | 59.1M/268M [00:13<00:41, 5.04MB/s]\u001b[A\n",
      "model.safetensors:  23%|██████████████████████████████████▏                                                                                                                    | 60.6M/268M [00:13<00:37, 5.53MB/s]\u001b[A\n",
      "model.safetensors:  23%|██████████████████████████████████▉                                                                                                                    | 61.9M/268M [00:13<00:34, 5.97MB/s]\u001b[A\n",
      "model.safetensors:  24%|███████████████████████████████████▌                                                                                                                   | 63.2M/268M [00:13<00:30, 6.75MB/s]\u001b[A\n",
      "model.safetensors:  24%|████████████████████████████████████                                                                                                                   | 64.0M/268M [00:14<00:51, 3.93MB/s]\u001b[A\n",
      "model.safetensors:  25%|██████████████████████████████████████▏                                                                                                                | 67.8M/268M [00:14<00:26, 7.52MB/s]\u001b[A\n",
      "model.safetensors:  26%|███████████████████████████████████████                                                                                                                | 69.2M/268M [00:14<00:26, 7.49MB/s]\u001b[A\n",
      "model.safetensors:  26%|███████████████████████████████████████▊                                                                                                               | 70.5M/268M [00:14<00:24, 8.21MB/s]\u001b[A\n",
      "model.safetensors:  27%|████████████████████████████████████████▌                                                                                                              | 71.9M/268M [00:14<00:22, 8.79MB/s]\u001b[A\n",
      "model.safetensors:  27%|█████████████████████████████████████████▎                                                                                                             | 73.2M/268M [00:14<00:20, 9.53MB/s]\u001b[A\n",
      "model.safetensors:  28%|██████████████████████████████████████████▊                                                                                                            | 75.9M/268M [00:14<00:16, 11.3MB/s]\u001b[A\n",
      "model.safetensors:  29%|████████████████████████████████████████████▍                                                                                                          | 78.7M/268M [00:15<00:15, 12.4MB/s]\u001b[A\n",
      "model.safetensors:  30%|█████████████████████████████████████████████▏                                                                                                         | 80.1M/268M [00:15<00:30, 6.13MB/s]\u001b[A\n",
      "model.safetensors:  31%|███████████████████████████████████████████████▏                                                                                                       | 83.8M/268M [00:15<00:19, 9.65MB/s]\u001b[A\n",
      "model.safetensors:  32%|████████████████████████████████████████████████▏                                                                                                      | 85.4M/268M [00:15<00:17, 10.5MB/s]\u001b[A\n",
      "model.safetensors:  32%|█████████████████████████████████████████████████                                                                                                      | 87.0M/268M [00:16<00:16, 10.8MB/s]\u001b[A\n",
      "model.safetensors:  33%|█████████████████████████████████████████████████▊                                                                                                     | 88.4M/268M [00:16<00:15, 11.4MB/s]\u001b[A\n",
      "model.safetensors:  34%|██████████████████████████████████████████████████▋                                                                                                    | 89.9M/268M [00:16<00:15, 11.6MB/s]\u001b[A\n",
      "model.safetensors:  34%|███████████████████████████████████████████████████▍                                                                                                   | 91.3M/268M [00:16<00:14, 11.8MB/s]\u001b[A\n",
      "model.safetensors:  35%|████████████████████████████████████████████████████▏                                                                                                  | 92.6M/268M [00:16<00:14, 12.1MB/s]\u001b[A\n",
      "model.safetensors:  35%|████████████████████████████████████████████████████▉                                                                                                  | 93.9M/268M [00:16<00:14, 12.0MB/s]\u001b[A\n",
      "model.safetensors:  36%|█████████████████████████████████████████████████████▋                                                                                                 | 95.2M/268M [00:16<00:14, 12.2MB/s]\u001b[A\n",
      "model.safetensors:  36%|██████████████████████████████████████████████████████▍                                                                                                | 96.5M/268M [00:17<00:41, 4.17MB/s]\u001b[A\n",
      "model.safetensors:  37%|████████████████████████████████████████████████████████▎                                                                                              | 99.8M/268M [00:17<00:23, 7.12MB/s]\u001b[A\n",
      "model.safetensors:  38%|██████████████████████████████████████████████████████████▏                                                                                             | 102M/268M [00:17<00:18, 8.80MB/s]\u001b[A\n",
      "model.safetensors:  39%|██████████████████████████████████████████████████████████▉                                                                                             | 104M/268M [00:18<00:16, 9.66MB/s]\u001b[A\n",
      "model.safetensors:  39%|███████████████████████████████████████████████████████████▊                                                                                            | 105M/268M [00:18<00:15, 10.3MB/s]\u001b[A\n",
      "model.safetensors:  40%|████████████████████████████████████████████████████████████▌                                                                                           | 107M/268M [00:18<00:14, 10.8MB/s]\u001b[A\n",
      "model.safetensors:  41%|██████████████████████████████████████████████████████████████                                                                                          | 109M/268M [00:18<00:12, 12.3MB/s]\u001b[A\n",
      "model.safetensors:  42%|███████████████████████████████████████████████████████████████▌                                                                                        | 112M/268M [00:19<00:22, 6.88MB/s]\u001b[A\n",
      "model.safetensors:  43%|█████████████████████████████████████████████████████████████████▋                                                                                      | 116M/268M [00:19<00:14, 10.2MB/s]\u001b[A\n",
      "model.safetensors:  44%|██████████████████████████████████████████████████████████████████▋                                                                                     | 117M/268M [00:19<00:14, 10.6MB/s]\u001b[A\n",
      "model.safetensors:  44%|███████████████████████████████████████████████████████████████████▍                                                                                    | 119M/268M [00:19<00:13, 10.9MB/s]\u001b[A\n",
      "model.safetensors:  45%|████████████████████████████████████████████████████████████████████▎                                                                                   | 120M/268M [00:19<00:13, 11.1MB/s]\u001b[A\n",
      "model.safetensors:  45%|█████████████████████████████████████████████████████████████████████                                                                                   | 122M/268M [00:19<00:12, 11.6MB/s]\u001b[A\n",
      "model.safetensors:  46%|█████████████████████████████████████████████████████████████████████▊                                                                                  | 123M/268M [00:19<00:12, 11.9MB/s]\u001b[A\n",
      "model.safetensors:  47%|███████████████████████████████████████████████████████████████████████▏                                                                                | 126M/268M [00:19<00:11, 12.4MB/s]\u001b[A\n",
      "model.safetensors:  47%|████████████████████████████████████████████████████████████████████████                                                                                | 127M/268M [00:20<00:11, 12.5MB/s]\u001b[A\n",
      "model.safetensors:  48%|████████████████████████████████████████████████████████████████████████▊                                                                               | 128M/268M [00:21<00:33, 4.14MB/s]\u001b[A\n",
      "model.safetensors:  49%|██████████████████████████████████████████████████████████████████████████▊                                                                             | 132M/268M [00:21<00:20, 6.72MB/s]\u001b[A\n",
      "model.safetensors:  50%|████████████████████████████████████████████████████████████████████████████▎                                                                           | 134M/268M [00:21<00:16, 8.33MB/s]\u001b[A\n",
      "model.safetensors:  51%|█████████████████████████████████████████████████████████████████████████████▉                                                                          | 137M/268M [00:21<00:12, 10.2MB/s]\u001b[A\n",
      "model.safetensors:  52%|███████████████████████████████████████████████████████████████████████████████▍                                                                        | 140M/268M [00:21<00:11, 11.6MB/s]\u001b[A\n",
      "model.safetensors:  53%|█████████████████████████████████████████████████████████████████████████████████                                                                       | 143M/268M [00:21<00:09, 13.0MB/s]\u001b[A\n",
      "model.safetensors:  54%|█████████████████████████████████████████████████████████████████████████████████▉                                                                      | 144M/268M [00:22<00:17, 7.13MB/s]\u001b[A\n",
      "model.safetensors:  55%|███████████████████████████████████████████████████████████████████████████████████▉                                                                    | 148M/268M [00:22<00:11, 10.0MB/s]\u001b[A\n",
      "model.safetensors:  56%|████████████████████████████████████████████████████████████████████████████████████▊                                                                   | 149M/268M [00:22<00:12, 9.75MB/s]\u001b[A\n",
      "model.safetensors:  56%|█████████████████████████████████████████████████████████████████████████████████████▋                                                                  | 151M/268M [00:23<00:14, 8.34MB/s]\u001b[A\n",
      "model.safetensors:  57%|██████████████████████████████████████████████████████████████████████████████████████▋                                                                 | 153M/268M [00:23<00:13, 8.46MB/s]\u001b[A\n",
      "model.safetensors:  58%|███████████████████████████████████████████████████████████████████████████████████████▍                                                                | 154M/268M [00:23<00:13, 8.30MB/s]\u001b[A\n",
      "model.safetensors:  58%|████████████████████████████████████████████████████████████████████████████████████████▏                                                               | 156M/268M [00:23<00:13, 8.17MB/s]\u001b[A\n",
      "model.safetensors:  59%|█████████████████████████████████████████████████████████████████████████████████████████                                                               | 157M/268M [00:23<00:13, 8.43MB/s]\u001b[A\n",
      "model.safetensors:  59%|█████████████████████████████████████████████████████████████████████████████████████████▊                                                              | 158M/268M [00:23<00:12, 8.60MB/s]\u001b[A\n",
      "model.safetensors:  60%|██████████████████████████████████████████████████████████████████████████████████████████▊                                                             | 160M/268M [00:24<00:10, 10.1MB/s]\u001b[A\n",
      "model.safetensors:  60%|███████████████████████████████████████████████████████████████████████████████████████████▍                                                            | 161M/268M [00:24<00:21, 5.02MB/s]\u001b[A\n",
      "model.safetensors:  61%|████████████████████████████████████████████████████████████████████████████████████████████▉                                                           | 164M/268M [00:24<00:13, 7.56MB/s]\u001b[A\n",
      "model.safetensors:  62%|██████████████████████████████████████████████████████████████████████████████████████████████▌                                                         | 167M/268M [00:24<00:10, 9.95MB/s]\u001b[A\n",
      "model.safetensors:  63%|████████████████████████████████████████████████████████████████████████████████████████████████                                                        | 169M/268M [00:25<00:08, 11.5MB/s]\u001b[A\n",
      "model.safetensors:  64%|█████████████████████████████████████████████████████████████████████████████████████████████████▋                                                      | 172M/268M [00:25<00:07, 13.2MB/s]\u001b[A\n",
      "model.safetensors:  65%|███████████████████████████████████████████████████████████████████████████████████████████████████▏                                                    | 175M/268M [00:25<00:06, 14.7MB/s]\u001b[A\n",
      "model.safetensors:  66%|████████████████████████████████████████████████████████████████████████████████████████████████████▏                                                   | 176M/268M [00:26<00:15, 5.75MB/s]\u001b[A\n",
      "model.safetensors:  67%|██████████████████████████████████████████████████████████████████████████████████████████████████████                                                  | 180M/268M [00:26<00:10, 8.10MB/s]\u001b[A\n",
      "model.safetensors:  68%|███████████████████████████████████████████████████████████████████████████████████████████████████████▌                                                | 182M/268M [00:26<00:09, 9.35MB/s]\u001b[A\n",
      "model.safetensors:  69%|█████████████████████████████████████████████████████████████████████████████████████████████████████████▏                                              | 185M/268M [00:26<00:07, 11.1MB/s]\u001b[A\n",
      "model.safetensors:  70%|██████████████████████████████████████████████████████████████████████████████████████████████████████████▊                                             | 188M/268M [00:26<00:06, 12.5MB/s]\u001b[A\n",
      "model.safetensors:  71%|████████████████████████████████████████████████████████████████████████████████████████████████████████████▍                                           | 191M/268M [00:27<00:05, 13.0MB/s]\u001b[A\n",
      "model.safetensors:  72%|█████████████████████████████████████████████████████████████████████████████████████████████████████████████▎                                          | 193M/268M [00:27<00:10, 6.86MB/s]\u001b[A\n",
      "model.safetensors:  73%|███████████████████████████████████████████████████████████████████████████████████████████████████████████████                                         | 196M/268M [00:27<00:07, 9.26MB/s]\u001b[A\n",
      "model.safetensors:  74%|████████████████████████████████████████████████████████████████████████████████████████████████████████████████▋                                       | 199M/268M [00:28<00:06, 10.1MB/s]\u001b[A\n",
      "model.safetensors:  75%|█████████████████████████████████████████████████████████████████████████████████████████████████████████████████▌                                      | 200M/268M [00:28<00:06, 10.5MB/s]\u001b[A\n",
      "model.safetensors:  75%|██████████████████████████████████████████████████████████████████████████████████████████████████████████████████▎                                     | 202M/268M [00:28<00:05, 11.1MB/s]\u001b[A\n",
      "model.safetensors:  76%|███████████████████████████████████████████████████████████████████████████████████████████████████████████████████▏                                    | 203M/268M [00:28<00:05, 11.5MB/s]\u001b[A\n",
      "model.safetensors:  77%|████████████████████████████████████████████████████████████████████████████████████████████████████████████████████▊                                   | 206M/268M [00:28<00:04, 13.3MB/s]\u001b[A\n",
      "model.safetensors:  78%|██████████████████████████████████████████████████████████████████████████████████████████████████████████████████████                                  | 208M/268M [00:29<00:08, 6.74MB/s]\u001b[A\n",
      "model.safetensors:  79%|████████████████████████████████████████████████████████████████████████████████████████████████████████████████████████▏                               | 212M/268M [00:29<00:05, 10.2MB/s]\u001b[A\n",
      "model.safetensors:  80%|█████████████████████████████████████████████████████████████████████████████████████████████████████████████████████████▏                              | 214M/268M [00:29<00:04, 11.3MB/s]\u001b[A\n",
      "model.safetensors:  80%|██████████████████████████████████████████████████████████████████████████████████████████████████████████████████████████▎                             | 215M/268M [00:29<00:04, 12.2MB/s]\u001b[A\n",
      "model.safetensors:  81%|███████████████████████████████████████████████████████████████████████████████████████████████████████████████████████████▏                            | 217M/268M [00:29<00:04, 11.6MB/s]\u001b[A\n",
      "model.safetensors:  82%|████████████████████████████████████████████████████████████████████████████████████████████████████████████████████████████▋                           | 220M/268M [00:29<00:03, 14.3MB/s]\u001b[A\n",
      "model.safetensors:  83%|█████████████████████████████████████████████████████████████████████████████████████████████████████████████████████████████▋                          | 222M/268M [00:30<00:03, 12.8MB/s]\u001b[A\n",
      "model.safetensors:  83%|██████████████████████████████████████████████████████████████████████████████████████████████████████████████████████████████▌                         | 223M/268M [00:30<00:03, 13.3MB/s]\u001b[A\n",
      "model.safetensors:  84%|███████████████████████████████████████████████████████████████████████████████████████████████████████████████████████████████▌                        | 225M/268M [00:30<00:06, 6.17MB/s]\u001b[A\n",
      "model.safetensors:  85%|█████████████████████████████████████████████████████████████████████████████████████████████████████████████████████████████████▎                      | 228M/268M [00:31<00:04, 8.97MB/s]\u001b[A\n",
      "model.safetensors:  86%|██████████████████████████████████████████████████████████████████████████████████████████████████████████████████████████████████▊                     | 231M/268M [00:31<00:03, 10.3MB/s]\u001b[A\n",
      "model.safetensors:  87%|███████████████████████████████████████████████████████████████████████████████████████████████████████████████████████████████████▋                    | 232M/268M [00:31<00:03, 10.8MB/s]\u001b[A\n",
      "model.safetensors:  88%|█████████████████████████████████████████████████████████████████████████████████████████████████████████████████████████████████████▎                  | 235M/268M [00:31<00:02, 12.1MB/s]\u001b[A\n",
      "model.safetensors:  88%|██████████████████████████████████████████████████████████████████████████████████████████████████████████████████████████████████████▏                 | 236M/268M [00:31<00:02, 12.3MB/s]\u001b[A\n",
      "model.safetensors:  89%|███████████████████████████████████████████████████████████████████████████████████████████████████████████████████████████████████████▋                | 239M/268M [00:31<00:02, 12.7MB/s]\u001b[A\n",
      "model.safetensors:  90%|████████████████████████████████████████████████████████████████████████████████████████████████████████████████████████████████████████▍               | 240M/268M [00:32<00:04, 6.53MB/s]\u001b[A\n",
      "model.safetensors:  91%|██████████████████████████████████████████████████████████████████████████████████████████████████████████████████████████████████████████▎             | 244M/268M [00:32<00:02, 9.53MB/s]\u001b[A\n",
      "model.safetensors:  92%|███████████████████████████████████████████████████████████████████████████████████████████████████████████████████████████████████████████▏            | 245M/268M [00:32<00:02, 9.87MB/s]\u001b[A\n",
      "model.safetensors:  92%|████████████████████████████████████████████████████████████████████████████████████████████████████████████████████████████████████████████            | 247M/268M [00:32<00:02, 9.48MB/s]\u001b[A\n",
      "model.safetensors:  93%|████████████████████████████████████████████████████████████████████████████████████████████████████████████████████████████████████████████▊           | 248M/268M [00:33<00:01, 9.95MB/s]\u001b[A\n",
      "model.safetensors:  93%|█████████████████████████████████████████████████████████████████████████████████████████████████████████████████████████████████████████████▋          | 250M/268M [00:33<00:01, 10.3MB/s]\u001b[A\n",
      "model.safetensors:  94%|██████████████████████████████████████████████████████████████████████████████████████████████████████████████████████████████████████████████▋         | 251M/268M [00:33<00:02, 7.07MB/s]\u001b[A\n",
      "model.safetensors:  94%|███████████████████████████████████████████████████████████████████████████████████████████████████████████████████████████████████████████████▋        | 253M/268M [00:33<00:01, 7.83MB/s]\u001b[A\n",
      "model.safetensors:  95%|████████████████████████████████████████████████████████████████████████████████████████████████████████████████████████████████████████████████▌       | 255M/268M [00:33<00:01, 9.07MB/s]\u001b[A\n",
      "model.safetensors:  96%|█████████████████████████████████████████████████████████████████████████████████████████████████████████████████████████████████████████████████▎      | 256M/268M [00:34<00:03, 3.45MB/s]\u001b[A\n",
      "model.safetensors:  97%|███████████████████████████████████████████████████████████████████████████████████████████████████████████████████████████████████████████████████▍    | 260M/268M [00:35<00:01, 6.24MB/s]\u001b[A\n",
      "model.safetensors:  98%|████████████████████████████████████████████████████████████████████████████████████████████████████████████████████████████████████████████████████▎   | 261M/268M [00:35<00:00, 7.09MB/s]\u001b[A\n",
      "model.safetensors:  99%|█████████████████████████████████████████████████████████████████████████████████████████████████████████████████████████████████████████████████████▉  | 264M/268M [00:35<00:00, 9.30MB/s]\u001b[A\n",
      "model.safetensors: 100%|████████████████████████████████████████████████████████████████████████████████████████████████████████████████████████████████████████████████████████| 268M/268M [00:35<00:00, 7.45MB/s]\u001b[A\n",
      "\n",
      "\n",
      "\n",
      "\n",
      "Upload 4 LFS files: 100%|████████████████████████████████████████████████████████████████████████████████████████████████████████████████████████████████████████████████████████████| 4/4 [00:36<00:00,  9.09s/it]\u001b[A\u001b[A\u001b[A\u001b[A\n"
     ]
    },
    {
     "data": {
      "text/plain": [
       "CommitInfo(commit_url='https://huggingface.co/AkhilJX/fine-tuned-distilbert-base-uncased/commit/8471f4a950bbd64fd722fe04387005e7d22553af', commit_message='End of training', commit_description='', oid='8471f4a950bbd64fd722fe04387005e7d22553af', pr_url=None, repo_url=RepoUrl('https://huggingface.co/AkhilJX/fine-tuned-distilbert-base-uncased', endpoint='https://huggingface.co', repo_type='model', repo_id='AkhilJX/fine-tuned-distilbert-base-uncased'), pr_revision=None, pr_num=None)"
      ]
     },
     "execution_count": 38,
     "metadata": {},
     "output_type": "execute_result"
    }
   ],
   "source": [
    "# push your model and tokenizer to the hugging face. \n",
    "trainer.push_to_hub()"
   ]
  },
  {
   "cell_type": "code",
   "execution_count": 39,
   "id": "faf11d6c-d227-4d00-8203-9a419d2b23ae",
   "metadata": {},
   "outputs": [
    {
     "name": "stdout",
     "output_type": "stream",
     "text": [
      "Request was successful.\n",
      "<!doctype html>\n",
      "<html class=\"\">\n",
      "\t<head>\n",
      "\t\t<meta charset=\"utf-8\" />\n",
      "\t\t<meta name=\"viewport\" content=\"width=device-width, initial-scale=1.0, user-scalable=no\" />\n",
      "\t\t<meta name=\"description\" content=\"We’re on a journey to advance and democratize artificial intelligence through open source and open science.\" />\n",
      "\t\t<meta property=\"fb:app_id\" content=\"1321688464574422\" />\n",
      "\t\t<meta name=\"twitter:card\" content=\"summary_large_image\" />\n",
      "\t\t<meta name=\"twitter:site\" content=\"@huggingface\" />\n",
      "\t\t<meta name=\"twit\n"
     ]
    }
   ],
   "source": [
    "# curl https://huggingface.co/AkhilJX/fine-tuned-distilbert-base-uncased\n",
    "\n",
    "# verify if the model was uploaded properly\n",
    "import requests\n",
    "\n",
    "# Define the URL\n",
    "url = \"https://huggingface.co/AkhilJX/fine-tuned-distilbert-base-uncased\"\n",
    "\n",
    "# Make the GET request\n",
    "response = requests.get(url)\n",
    "\n",
    "# Check the response status code\n",
    "if response.status_code == 200:\n",
    "    print(\"Request was successful.\")\n",
    "    # Print a portion of the response text\n",
    "    print(response.text[:500])  # Display the first 500 characters of the response\n",
    "else:\n",
    "    print(f\"Request failed with status code: {response.status_code}\")\n"
   ]
  },
  {
   "cell_type": "code",
   "execution_count": 40,
   "id": "02901f52-9cbd-4938-a76a-1b4d5950da8a",
   "metadata": {},
   "outputs": [],
   "source": [
    "# Load model directly\n",
    "from transformers import AutoTokenizer, AutoModelForSequenceClassification\n",
    "\n",
    "# tokenizer = AutoTokenizer.from_pretrained(\"AkhilJX/fine-tuned-distilbert-base-uncased\")\n",
    "tokenizer = AutoTokenizer.from_pretrained(\"distilbert/distilbert-base-uncased\")\n",
    "model = AutoModelForSequenceClassification.from_pretrained(\"AkhilJX/fine-tuned-distilbert-base-uncased\")"
   ]
  },
  {
   "cell_type": "code",
   "execution_count": 41,
   "id": "c1220285-a58f-4e27-a4ca-33f8aaf173dd",
   "metadata": {},
   "outputs": [
    {
     "name": "stdout",
     "output_type": "stream",
     "text": [
      "Sentiment: Neutral\n"
     ]
    }
   ],
   "source": [
    "# test the model on sample text\n",
    "import torch\n",
    "\n",
    "# Function for sentiment analysis\n",
    "def analyze_sentiment(text):\n",
    "    # Tokenize input text\n",
    "    inputs = tokenizer(text, return_tensors=\"pt\", truncation=True, padding=True)\n",
    "    # Get model predictions\n",
    "    outputs = model(**inputs)\n",
    "    logits = outputs.logits\n",
    "    # Get predicted class (highest logit score)\n",
    "    predicted_class = torch.argmax(logits, dim=-1).item()\n",
    "    return predicted_class\n",
    "\n",
    "# Example usage\n",
    "text = \"I’m just browsing for now, not looking to make any decisions yet.\"\n",
    "sentiment = analyze_sentiment(text)\n",
    "\n",
    "# Interpret sentiment (classification: 0 = negative, 1 = neutral, 2 = positive)\n",
    "if sentiment == 0:\n",
    "    print(\"Sentiment: Negative\")\n",
    "elif sentiment == 1:\n",
    "    print(\"Sentiment: Neutral\")\n",
    "elif sentiment == 2:\n",
    "    print(\"Sentiment: Positive\")\n",
    "else:\n",
    "    print(f\"Sentiment: Class {sentiment}\")"
   ]
  },
  {
   "cell_type": "markdown",
   "id": "4e8f17d6-985c-40ac-b2a8-f764d0c175f1",
   "metadata": {},
   "source": [
    "# ........................................................Thank You....................................................."
   ]
  },
  {
   "cell_type": "code",
   "execution_count": null,
   "id": "f312d365-8671-48e7-a8b9-d8c6dde46ca2",
   "metadata": {},
   "outputs": [],
   "source": []
  }
 ],
 "metadata": {
  "kernelspec": {
   "display_name": "Python 3 (ipykernel)",
   "language": "python",
   "name": "python3"
  },
  "language_info": {
   "codemirror_mode": {
    "name": "ipython",
    "version": 3
   },
   "file_extension": ".py",
   "mimetype": "text/x-python",
   "name": "python",
   "nbconvert_exporter": "python",
   "pygments_lexer": "ipython3",
   "version": "3.11.9"
  }
 },
 "nbformat": 4,
 "nbformat_minor": 5
}
